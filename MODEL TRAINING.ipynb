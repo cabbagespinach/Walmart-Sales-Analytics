{
 "cells": [
  {
   "cell_type": "markdown",
   "id": "18edb671",
   "metadata": {},
   "source": [
    "**Preparatory steps**"
   ]
  },
  {
   "cell_type": "code",
   "execution_count": 1,
   "id": "375b9c4d",
   "metadata": {},
   "outputs": [],
   "source": [
    "import pandas as pd\n",
    "import numpy as np\n",
    "import matplotlib.pyplot as plt\n",
    "import seaborn as sns"
   ]
  },
  {
   "cell_type": "code",
   "execution_count": 2,
   "id": "d5d2c8ab",
   "metadata": {},
   "outputs": [
    {
     "data": {
      "text/html": [
       "<div>\n",
       "<style scoped>\n",
       "    .dataframe tbody tr th:only-of-type {\n",
       "        vertical-align: middle;\n",
       "    }\n",
       "\n",
       "    .dataframe tbody tr th {\n",
       "        vertical-align: top;\n",
       "    }\n",
       "\n",
       "    .dataframe thead th {\n",
       "        text-align: right;\n",
       "    }\n",
       "</style>\n",
       "<table border=\"1\" class=\"dataframe\">\n",
       "  <thead>\n",
       "    <tr style=\"text-align: right;\">\n",
       "      <th></th>\n",
       "      <th>Store</th>\n",
       "      <th>Weekly_Sales</th>\n",
       "      <th>IsHoliday</th>\n",
       "      <th>Dept</th>\n",
       "      <th>CPI</th>\n",
       "      <th>Temperature</th>\n",
       "      <th>Fuel_Price</th>\n",
       "      <th>MarkDown1</th>\n",
       "      <th>MarkDown2</th>\n",
       "      <th>MarkDown3</th>\n",
       "      <th>MarkDown4</th>\n",
       "      <th>MarkDown5</th>\n",
       "      <th>Unemployment</th>\n",
       "      <th>Month</th>\n",
       "      <th>Day</th>\n",
       "      <th>Year</th>\n",
       "      <th>Week</th>\n",
       "      <th>Store_size</th>\n",
       "    </tr>\n",
       "  </thead>\n",
       "  <tbody>\n",
       "    <tr>\n",
       "      <th>0</th>\n",
       "      <td>1</td>\n",
       "      <td>25293.49</td>\n",
       "      <td>0</td>\n",
       "      <td>1</td>\n",
       "      <td>218.714733</td>\n",
       "      <td>48.91</td>\n",
       "      <td>3.172</td>\n",
       "      <td>5629.51</td>\n",
       "      <td>68.0</td>\n",
       "      <td>1398.11</td>\n",
       "      <td>2084.64</td>\n",
       "      <td>20475.32</td>\n",
       "      <td>7.866</td>\n",
       "      <td>12</td>\n",
       "      <td>2</td>\n",
       "      <td>1</td>\n",
       "      <td>0</td>\n",
       "      <td>151315</td>\n",
       "    </tr>\n",
       "    <tr>\n",
       "      <th>1</th>\n",
       "      <td>1</td>\n",
       "      <td>45928.14</td>\n",
       "      <td>0</td>\n",
       "      <td>2</td>\n",
       "      <td>218.714733</td>\n",
       "      <td>48.91</td>\n",
       "      <td>3.172</td>\n",
       "      <td>5629.51</td>\n",
       "      <td>68.0</td>\n",
       "      <td>1398.11</td>\n",
       "      <td>2084.64</td>\n",
       "      <td>20475.32</td>\n",
       "      <td>7.866</td>\n",
       "      <td>12</td>\n",
       "      <td>2</td>\n",
       "      <td>1</td>\n",
       "      <td>0</td>\n",
       "      <td>151315</td>\n",
       "    </tr>\n",
       "    <tr>\n",
       "      <th>2</th>\n",
       "      <td>1</td>\n",
       "      <td>10146.54</td>\n",
       "      <td>0</td>\n",
       "      <td>3</td>\n",
       "      <td>218.714733</td>\n",
       "      <td>48.91</td>\n",
       "      <td>3.172</td>\n",
       "      <td>5629.51</td>\n",
       "      <td>68.0</td>\n",
       "      <td>1398.11</td>\n",
       "      <td>2084.64</td>\n",
       "      <td>20475.32</td>\n",
       "      <td>7.866</td>\n",
       "      <td>12</td>\n",
       "      <td>2</td>\n",
       "      <td>1</td>\n",
       "      <td>0</td>\n",
       "      <td>151315</td>\n",
       "    </tr>\n",
       "    <tr>\n",
       "      <th>3</th>\n",
       "      <td>1</td>\n",
       "      <td>38489.63</td>\n",
       "      <td>0</td>\n",
       "      <td>4</td>\n",
       "      <td>218.714733</td>\n",
       "      <td>48.91</td>\n",
       "      <td>3.172</td>\n",
       "      <td>5629.51</td>\n",
       "      <td>68.0</td>\n",
       "      <td>1398.11</td>\n",
       "      <td>2084.64</td>\n",
       "      <td>20475.32</td>\n",
       "      <td>7.866</td>\n",
       "      <td>12</td>\n",
       "      <td>2</td>\n",
       "      <td>1</td>\n",
       "      <td>0</td>\n",
       "      <td>151315</td>\n",
       "    </tr>\n",
       "    <tr>\n",
       "      <th>4</th>\n",
       "      <td>1</td>\n",
       "      <td>32572.27</td>\n",
       "      <td>0</td>\n",
       "      <td>5</td>\n",
       "      <td>218.714733</td>\n",
       "      <td>48.91</td>\n",
       "      <td>3.172</td>\n",
       "      <td>5629.51</td>\n",
       "      <td>68.0</td>\n",
       "      <td>1398.11</td>\n",
       "      <td>2084.64</td>\n",
       "      <td>20475.32</td>\n",
       "      <td>7.866</td>\n",
       "      <td>12</td>\n",
       "      <td>2</td>\n",
       "      <td>1</td>\n",
       "      <td>0</td>\n",
       "      <td>151315</td>\n",
       "    </tr>\n",
       "  </tbody>\n",
       "</table>\n",
       "</div>"
      ],
      "text/plain": [
       "   Store  Weekly_Sales  IsHoliday  Dept         CPI  Temperature  Fuel_Price  \\\n",
       "0      1      25293.49          0     1  218.714733        48.91       3.172   \n",
       "1      1      45928.14          0     2  218.714733        48.91       3.172   \n",
       "2      1      10146.54          0     3  218.714733        48.91       3.172   \n",
       "3      1      38489.63          0     4  218.714733        48.91       3.172   \n",
       "4      1      32572.27          0     5  218.714733        48.91       3.172   \n",
       "\n",
       "   MarkDown1  MarkDown2  MarkDown3  MarkDown4  MarkDown5  Unemployment  Month  \\\n",
       "0    5629.51       68.0    1398.11    2084.64   20475.32         7.866     12   \n",
       "1    5629.51       68.0    1398.11    2084.64   20475.32         7.866     12   \n",
       "2    5629.51       68.0    1398.11    2084.64   20475.32         7.866     12   \n",
       "3    5629.51       68.0    1398.11    2084.64   20475.32         7.866     12   \n",
       "4    5629.51       68.0    1398.11    2084.64   20475.32         7.866     12   \n",
       "\n",
       "   Day  Year  Week  Store_size  \n",
       "0    2     1     0      151315  \n",
       "1    2     1     0      151315  \n",
       "2    2     1     0      151315  \n",
       "3    2     1     0      151315  \n",
       "4    2     1     0      151315  "
      ]
     },
     "execution_count": 2,
     "metadata": {},
     "output_type": "execute_result"
    }
   ],
   "source": [
    "train_set = pd.read_csv('train_set.csv')\n",
    "train_set = train_set.drop(['Unnamed: 0'], axis=1)\n",
    "train_set.head()"
   ]
  },
  {
   "cell_type": "code",
   "execution_count": 3,
   "id": "1aa4994d",
   "metadata": {},
   "outputs": [
    {
     "data": {
      "text/html": [
       "<div>\n",
       "<style scoped>\n",
       "    .dataframe tbody tr th:only-of-type {\n",
       "        vertical-align: middle;\n",
       "    }\n",
       "\n",
       "    .dataframe tbody tr th {\n",
       "        vertical-align: top;\n",
       "    }\n",
       "\n",
       "    .dataframe thead th {\n",
       "        text-align: right;\n",
       "    }\n",
       "</style>\n",
       "<table border=\"1\" class=\"dataframe\">\n",
       "  <thead>\n",
       "    <tr style=\"text-align: right;\">\n",
       "      <th></th>\n",
       "      <th>Store</th>\n",
       "      <th>Dept</th>\n",
       "      <th>IsHoliday</th>\n",
       "      <th>Month</th>\n",
       "      <th>Year</th>\n",
       "      <th>Day</th>\n",
       "      <th>Week</th>\n",
       "    </tr>\n",
       "  </thead>\n",
       "  <tbody>\n",
       "    <tr>\n",
       "      <th>0</th>\n",
       "      <td>1</td>\n",
       "      <td>1</td>\n",
       "      <td>0</td>\n",
       "      <td>12</td>\n",
       "      <td>2</td>\n",
       "      <td>7</td>\n",
       "      <td>0</td>\n",
       "    </tr>\n",
       "    <tr>\n",
       "      <th>1</th>\n",
       "      <td>1</td>\n",
       "      <td>1</td>\n",
       "      <td>0</td>\n",
       "      <td>12</td>\n",
       "      <td>2</td>\n",
       "      <td>14</td>\n",
       "      <td>1</td>\n",
       "    </tr>\n",
       "    <tr>\n",
       "      <th>2</th>\n",
       "      <td>1</td>\n",
       "      <td>1</td>\n",
       "      <td>0</td>\n",
       "      <td>12</td>\n",
       "      <td>2</td>\n",
       "      <td>21</td>\n",
       "      <td>2</td>\n",
       "    </tr>\n",
       "    <tr>\n",
       "      <th>3</th>\n",
       "      <td>1</td>\n",
       "      <td>1</td>\n",
       "      <td>1</td>\n",
       "      <td>12</td>\n",
       "      <td>2</td>\n",
       "      <td>28</td>\n",
       "      <td>3</td>\n",
       "    </tr>\n",
       "    <tr>\n",
       "      <th>4</th>\n",
       "      <td>1</td>\n",
       "      <td>2</td>\n",
       "      <td>0</td>\n",
       "      <td>12</td>\n",
       "      <td>2</td>\n",
       "      <td>7</td>\n",
       "      <td>0</td>\n",
       "    </tr>\n",
       "  </tbody>\n",
       "</table>\n",
       "</div>"
      ],
      "text/plain": [
       "   Store  Dept  IsHoliday  Month  Year  Day  Week\n",
       "0      1     1          0     12     2    7     0\n",
       "1      1     1          0     12     2   14     1\n",
       "2      1     1          0     12     2   21     2\n",
       "3      1     1          1     12     2   28     3\n",
       "4      1     2          0     12     2    7     0"
      ]
     },
     "execution_count": 3,
     "metadata": {},
     "output_type": "execute_result"
    }
   ],
   "source": [
    "Unknown_set = pd.read_csv('Unknown_set.csv')\n",
    "Unknown_set = Unknown_set.drop(['Unnamed: 0'], axis=1)\n",
    "Unknown_set.head()"
   ]
  },
  {
   "cell_type": "markdown",
   "id": "12f95d6c",
   "metadata": {},
   "source": [
    "### Modification #1: Replacing Store number with store type and One-hot encoding"
   ]
  },
  {
   "cell_type": "code",
   "execution_count": 4,
   "id": "e99c8f64",
   "metadata": {},
   "outputs": [
    {
     "data": {
      "text/html": [
       "<div>\n",
       "<style scoped>\n",
       "    .dataframe tbody tr th:only-of-type {\n",
       "        vertical-align: middle;\n",
       "    }\n",
       "\n",
       "    .dataframe tbody tr th {\n",
       "        vertical-align: top;\n",
       "    }\n",
       "\n",
       "    .dataframe thead th {\n",
       "        text-align: right;\n",
       "    }\n",
       "</style>\n",
       "<table border=\"1\" class=\"dataframe\">\n",
       "  <thead>\n",
       "    <tr style=\"text-align: right;\">\n",
       "      <th></th>\n",
       "      <th>Store</th>\n",
       "      <th>Type</th>\n",
       "      <th>Size</th>\n",
       "    </tr>\n",
       "  </thead>\n",
       "  <tbody>\n",
       "    <tr>\n",
       "      <th>0</th>\n",
       "      <td>1</td>\n",
       "      <td>A</td>\n",
       "      <td>151315</td>\n",
       "    </tr>\n",
       "    <tr>\n",
       "      <th>1</th>\n",
       "      <td>2</td>\n",
       "      <td>A</td>\n",
       "      <td>202307</td>\n",
       "    </tr>\n",
       "    <tr>\n",
       "      <th>2</th>\n",
       "      <td>3</td>\n",
       "      <td>B</td>\n",
       "      <td>37392</td>\n",
       "    </tr>\n",
       "    <tr>\n",
       "      <th>3</th>\n",
       "      <td>4</td>\n",
       "      <td>A</td>\n",
       "      <td>205863</td>\n",
       "    </tr>\n",
       "    <tr>\n",
       "      <th>4</th>\n",
       "      <td>5</td>\n",
       "      <td>B</td>\n",
       "      <td>34875</td>\n",
       "    </tr>\n",
       "  </tbody>\n",
       "</table>\n",
       "</div>"
      ],
      "text/plain": [
       "   Store Type    Size\n",
       "0      1    A  151315\n",
       "1      2    A  202307\n",
       "2      3    B   37392\n",
       "3      4    A  205863\n",
       "4      5    B   34875"
      ]
     },
     "execution_count": 4,
     "metadata": {},
     "output_type": "execute_result"
    }
   ],
   "source": [
    "store_details = pd.read_csv('stores.csv')\n",
    "store_details.head()"
   ]
  },
  {
   "cell_type": "code",
   "execution_count": 5,
   "id": "28b36245",
   "metadata": {},
   "outputs": [
    {
     "data": {
      "text/plain": [
       "<seaborn.axisgrid.FacetGrid at 0x2714ad287f0>"
      ]
     },
     "execution_count": 5,
     "metadata": {},
     "output_type": "execute_result"
    },
    {
     "data": {
      "image/png": "[encoded data removed]",
      "text/plain": [
       "<Figure size 402.875x360 with 1 Axes>"
      ]
     },
     "metadata": {
      "needs_background": "light"
     },
     "output_type": "display_data"
    }
   ],
   "source": [
    "sns.lmplot(data = store_details, x = 'Store', y = 'Size', hue = 'Type')"
   ]
  },
  {
   "cell_type": "markdown",
   "id": "8f190757",
   "metadata": {},
   "source": [
    "Replace store with store type."
   ]
  },
  {
   "cell_type": "code",
   "execution_count": 6,
   "id": "19ed6a7f",
   "metadata": {},
   "outputs": [
    {
     "data": {
      "text/plain": [
       "''"
      ]
     },
     "execution_count": 6,
     "metadata": {},
     "output_type": "execute_result"
    }
   ],
   "source": [
    "store_type = store_details[['Store', 'Size']].copy().set_index('Store').T.to_dict('list')\n",
    ";"
   ]
  },
  {
   "cell_type": "code",
   "execution_count": 7,
   "id": "d5545a32",
   "metadata": {},
   "outputs": [],
   "source": [
    "train_set['Store_size'] = train_set['Store'].apply(lambda x: store_type[x][0])\n",
    "Unknown_set['Store_size'] = Unknown_set['Store'].apply(lambda x: store_type[x][0])"
   ]
  },
  {
   "cell_type": "code",
   "execution_count": 8,
   "id": "99514894",
   "metadata": {},
   "outputs": [
    {
     "data": {
      "text/plain": [
       "\"\\nfrom sklearn.preprocessing import LabelEncoder\\nle = LabelEncoder()\\n\\ntrain_set['Store'] = le.fit_transform(train_set['Store'])\\nUnknown_set['Store'] = le.transform(Unknown_set['Store'])\\n\\n\""
      ]
     },
     "execution_count": 8,
     "metadata": {},
     "output_type": "execute_result"
    }
   ],
   "source": [
    "\"\"\"\n",
    "from sklearn.preprocessing import LabelEncoder\n",
    "le = LabelEncoder()\n",
    "\n",
    "train_set['Store'] = le.fit_transform(train_set['Store'])\n",
    "Unknown_set['Store'] = le.transform(Unknown_set['Store'])\n",
    "\n",
    "\"\"\""
   ]
  },
  {
   "cell_type": "markdown",
   "id": "82d683a5",
   "metadata": {},
   "source": [
    "**--------------------------------------------------------------------------------------------------------------------**"
   ]
  },
  {
   "cell_type": "code",
   "execution_count": 9,
   "id": "8f595a49",
   "metadata": {},
   "outputs": [
    {
     "data": {
      "text/plain": [
       "Weekly_Sales    1.000000\n",
       "Store_size      0.245050\n",
       "Dept            0.147963\n",
       "MarkDown5       0.090564\n",
       "MarkDown1       0.086500\n",
       "MarkDown3       0.062031\n",
       "MarkDown4       0.061569\n",
       "Month           0.035975\n",
       "MarkDown2       0.032607\n",
       "IsHoliday       0.017946\n",
       "Week           -0.001997\n",
       "Day            -0.003945\n",
       "Temperature    -0.007641\n",
       "Fuel_Price     -0.013919\n",
       "CPI            -0.019885\n",
       "Unemployment   -0.031533\n",
       "Year           -0.047868\n",
       "Store          -0.087182\n",
       "Name: Weekly_Sales, dtype: float64"
      ]
     },
     "execution_count": 9,
     "metadata": {},
     "output_type": "execute_result"
    }
   ],
   "source": [
    "corr_matrix = train_set.corr()\n",
    "corr_matrix[\"Weekly_Sales\"].sort_values(ascending=False)\n",
    "\n",
    "# Remove: IsHoliday, MarkDown4, Unemployment, and Store"
   ]
  },
  {
   "cell_type": "code",
   "execution_count": 10,
   "id": "6c7d939f",
   "metadata": {},
   "outputs": [],
   "source": [
    "# for visualization\n",
    "train_set.to_csv('train_set.csv')"
   ]
  },
  {
   "cell_type": "code",
   "execution_count": 11,
   "id": "b8fc5738",
   "metadata": {},
   "outputs": [
    {
     "data": {
      "image/png": "[encoded data removed]",
      "text/plain": [
       "<Figure size 1368x1080 with 2 Axes>"
      ]
     },
     "metadata": {
      "needs_background": "light"
     },
     "output_type": "display_data"
    }
   ],
   "source": [
    "f = plt.figure(figsize=(19, 15))\n",
    "plt.matshow(corr_matrix, fignum=f.number)\n",
    "plt.xticks(range(train_set.select_dtypes(['number']).shape[1]), train_set.select_dtypes(['number']).columns, fontsize=14, rotation=45)\n",
    "plt.yticks(range(train_set.select_dtypes(['number']).shape[1]), train_set.select_dtypes(['number']).columns, fontsize=14)\n",
    "cb = plt.colorbar()\n",
    "cb.ax.tick_params(labelsize=14)\n",
    "plt.title('Correlation Matrix', fontsize=16);\n",
    "\n",
    "# MarkDown2 and IsHoliday\n",
    "# MarkDown3 and IsHoliday\n",
    "# Fuel Price and Unemployment\n",
    "# MarkDown4 and MarkDown1"
   ]
  },
  {
   "cell_type": "markdown",
   "id": "e4fbf827",
   "metadata": {},
   "source": [
    "**--------------------------------------------------------------------------------------------------------------------**"
   ]
  },
  {
   "cell_type": "markdown",
   "id": "9be3a951",
   "metadata": {},
   "source": [
    "One hot encode department, month, and week"
   ]
  },
  {
   "cell_type": "code",
   "execution_count": 12,
   "id": "3b114631",
   "metadata": {},
   "outputs": [],
   "source": [
    "from sklearn.preprocessing import OneHotEncoder\n",
    "\n",
    "ohe = OneHotEncoder(handle_unknown='ignore')"
   ]
  },
  {
   "cell_type": "code",
   "execution_count": 13,
   "id": "0d2efc10",
   "metadata": {},
   "outputs": [],
   "source": [
    "def OH_dataframe(OH_arr, labels, data, toDrop):\n",
    "    var_series = pd.DataFrame(OH_arr, columns = labels)\n",
    "    data = data.drop(toDrop, axis=1)  \n",
    "    data = pd.concat([data, var_series], axis=1)\n",
    "    return data"
   ]
  },
  {
   "cell_type": "markdown",
   "id": "53460af5",
   "metadata": {},
   "source": [
    "Concatenate column name with each row value."
   ]
  },
  {
   "cell_type": "code",
   "execution_count": 14,
   "id": "c434f74d",
   "metadata": {},
   "outputs": [],
   "source": [
    "train_set['Dept_'] = train_set['Dept'].apply(lambda x: 'Dept' + str(x))\n",
    "train_set['Month_'] = train_set['Month'].apply(lambda x: 'Month' + str(x))\n",
    "train_set['Week_'] = train_set['Week'].apply(lambda x: 'Week' + str(x))"
   ]
  },
  {
   "cell_type": "code",
   "execution_count": 15,
   "id": "06985fc2",
   "metadata": {},
   "outputs": [],
   "source": [
    "Unknown_set['Dept_'] = Unknown_set['Dept'].apply(lambda x: 'Dept' + str(x))\n",
    "Unknown_set['Month_'] = Unknown_set['Month'].apply(lambda x: 'Month' + str(x))\n",
    "Unknown_set['Week_'] = Unknown_set['Week'].apply(lambda x: 'Week' + str(x))"
   ]
  },
  {
   "cell_type": "markdown",
   "id": "b2b498fb",
   "metadata": {},
   "source": [
    "Department"
   ]
  },
  {
   "cell_type": "code",
   "execution_count": 16,
   "id": "0f698f25",
   "metadata": {},
   "outputs": [],
   "source": [
    "Dept_OH_train = ohe.fit_transform(train_set['Dept_'].to_numpy().reshape(-1, 1)).toarray()\n",
    "Dept_OH_unknown = ohe.transform(Unknown_set['Dept_'].to_numpy().reshape(-1, 1)).toarray()\n",
    "\n",
    "Dept_labels = train_set['Dept_'].unique().tolist()\n",
    "\n",
    "train_set = OH_dataframe(Dept_OH_train, Dept_labels, train_set, 'Dept_')\n",
    "Unknown_set = OH_dataframe(Dept_OH_unknown, Dept_labels, Unknown_set, 'Dept_')"
   ]
  },
  {
   "cell_type": "markdown",
   "id": "90025329",
   "metadata": {},
   "source": [
    "Month"
   ]
  },
  {
   "cell_type": "code",
   "execution_count": 17,
   "id": "e467e9af",
   "metadata": {},
   "outputs": [],
   "source": [
    "Month_OH_train = ohe.fit_transform(train_set['Month_'].to_numpy().reshape(-1, 1)).toarray()\n",
    "Month_OH_unknown = ohe.transform(Unknown_set['Month_'].to_numpy().reshape(-1, 1)).toarray()\n",
    "\n",
    "Month_labels = train_set['Month_'].unique().tolist()\n",
    "\n",
    "train_set = OH_dataframe(Month_OH_train, Month_labels, train_set, 'Month_')\n",
    "Unknown_set = OH_dataframe(Month_OH_unknown, Month_labels, Unknown_set, 'Month_')"
   ]
  },
  {
   "cell_type": "markdown",
   "id": "682c9c95",
   "metadata": {},
   "source": [
    "Week"
   ]
  },
  {
   "cell_type": "code",
   "execution_count": 18,
   "id": "5a4cdf04",
   "metadata": {},
   "outputs": [],
   "source": [
    "Week_OH_train = ohe.fit_transform(train_set['Week_'].to_numpy().reshape(-1, 1)).toarray()\n",
    "Week_OH_unknown = ohe.transform(Unknown_set['Week_'].to_numpy().reshape(-1, 1)).toarray()\n",
    "\n",
    "Week_labels = train_set['Week_'].unique().tolist()\n",
    "\n",
    "train_set = OH_dataframe(Week_OH_train, Week_labels, train_set, 'Week_')\n",
    "Unknown_set = OH_dataframe(Week_OH_unknown, Week_labels, Unknown_set, 'Week_')"
   ]
  },
  {
   "cell_type": "markdown",
   "id": "6213c2cd",
   "metadata": {},
   "source": [
    "## Predict Weekly Sales without the lost variables"
   ]
  },
  {
   "cell_type": "markdown",
   "id": "3098f974",
   "metadata": {},
   "source": [
    "- We need long term data to actually see the effect of CPI, Temperature, Unemployment, and Fuel Price."
   ]
  },
  {
   "cell_type": "code",
   "execution_count": 19,
   "id": "34465059",
   "metadata": {},
   "outputs": [],
   "source": [
    "train_set_df = train_set.drop(['Temperature', 'Fuel_Price', 'CPI', 'Unemployment', 'MarkDown1', 'MarkDown2', 'MarkDown3', 'MarkDown4', 'MarkDown5'], axis=1)"
   ]
  },
  {
   "cell_type": "code",
   "execution_count": 20,
   "id": "117cb4c1",
   "metadata": {},
   "outputs": [],
   "source": [
    "from sklearn.model_selection import train_test_split\n",
    "\n",
    "y = train_set_df['Weekly_Sales'].copy()\n",
    "Z = train_set_df[['Dept', 'Year', 'Month', 'Week', 'Day', 'Store']].copy()\n",
    "X = train_set_df.drop(['Weekly_Sales', 'Dept', 'Year', 'Month', 'Week', 'Day', 'Store'], axis=1)\n",
    "\n",
    "X_train, X_test, y_train, y_test = train_test_split(X, y, test_size=0.2, random_state=42)"
   ]
  },
  {
   "cell_type": "code",
   "execution_count": 21,
   "id": "3777fc75",
   "metadata": {},
   "outputs": [
    {
     "name": "stdout",
     "output_type": "stream",
     "text": [
      "Baseline Error: 15542.482345605193\n",
      "R2: -4.106202865618457e+31\n"
     ]
    }
   ],
   "source": [
    "from sklearn.metrics import mean_absolute_error\n",
    "from sklearn.tree import DecisionTreeRegressor\n",
    "from sklearn.metrics import r2_score\n",
    "\n",
    "average_weeklysales = y_train.mean()\n",
    "baseline_test_predictions = [average_weeklysales]*len(X_test)\n",
    "\n",
    "baseline = mean_absolute_error(baseline_test_predictions, y_test)\n",
    "R2 = r2_score(baseline_test_predictions, y_test)\n",
    "\n",
    "print('Baseline Error:', baseline)\n",
    "print('R2:', R2)"
   ]
  },
  {
   "cell_type": "code",
   "execution_count": 22,
   "id": "f7069886",
   "metadata": {
    "scrolled": true
   },
   "outputs": [
    {
     "name": "stdout",
     "output_type": "stream",
     "text": [
      "depth: 98\n",
      "alpha: 0.0\n",
      "tree score: 300.07667199412595\n",
      "error: 300.07667199412595\n",
      "R2: 0.9942856213647522\n"
     ]
    }
   ],
   "source": [
    "dtr = DecisionTreeRegressor()\n",
    "dtr.fit(X_train, y_train)\n",
    "dtr_predictions = dtr.predict(X_train)\n",
    "dtr_error = mean_absolute_error(dtr_predictions, y_train)\n",
    "R2 = r2_score(dtr_predictions, y_train)\n",
    "\n",
    "depth = dtr.get_depth()\n",
    "alpha = dtr.get_params()['ccp_alpha']\n",
    "tree_score = dtr_error + alpha * depth\n",
    "\n",
    "print('depth:', depth)\n",
    "print('alpha:', alpha)\n",
    "print('tree score:', tree_score)\n",
    "print('error:', dtr_error)\n",
    "print('R2:', R2)"
   ]
  },
  {
   "cell_type": "code",
   "execution_count": 23,
   "id": "4f1e0b5b",
   "metadata": {},
   "outputs": [
    {
     "name": "stdout",
     "output_type": "stream",
     "text": [
      "depth: 98\n",
      "alpha: 0.0\n",
      "tree score: 2380.1845198741307\n",
      "error: 2380.1845198741307\n",
      "R2: 0.9348923226182944\n"
     ]
    }
   ],
   "source": [
    "dtr = DecisionTreeRegressor()\n",
    "dtr.fit(X_train, y_train)\n",
    "dtr_predictions = dtr.predict(X_test)\n",
    "dtr_error = mean_absolute_error(dtr_predictions, y_test)\n",
    "R2 = r2_score(dtr_predictions, y_test)\n",
    "\n",
    "depth = dtr.get_depth()\n",
    "alpha = dtr.get_params()['ccp_alpha']\n",
    "tree_score = dtr_error + alpha * depth\n",
    "\n",
    "print('depth:', depth)\n",
    "print('alpha:', alpha)\n",
    "print('tree score:', tree_score)\n",
    "print('error:', dtr_error)\n",
    "print('R2:', R2)"
   ]
  },
  {
   "cell_type": "code",
   "execution_count": 24,
   "id": "59f48324",
   "metadata": {},
   "outputs": [],
   "source": [
    "X = Unknown_set.drop(['Dept', 'Year', 'Month', 'Week', 'Day', 'Store'], axis=1)"
   ]
  },
  {
   "cell_type": "code",
   "execution_count": 25,
   "id": "7a0ce7b4",
   "metadata": {},
   "outputs": [],
   "source": [
    "final_y = dtr.predict(X)\n",
    "final_y = pd.Series(final_y, name='Weekly_Sales')"
   ]
  },
  {
   "cell_type": "code",
   "execution_count": 26,
   "id": "5ff470f9",
   "metadata": {},
   "outputs": [],
   "source": [
    "final_df = pd.concat([Unknown_set, final_y], axis=1)"
   ]
  },
  {
   "cell_type": "code",
   "execution_count": 36,
   "id": "2e920a8b",
   "metadata": {},
   "outputs": [
    {
     "data": {
      "text/html": [
       "<div>\n",
       "<style scoped>\n",
       "    .dataframe tbody tr th:only-of-type {\n",
       "        vertical-align: middle;\n",
       "    }\n",
       "\n",
       "    .dataframe tbody tr th {\n",
       "        vertical-align: top;\n",
       "    }\n",
       "\n",
       "    .dataframe thead th {\n",
       "        text-align: right;\n",
       "    }\n",
       "</style>\n",
       "<table border=\"1\" class=\"dataframe\">\n",
       "  <thead>\n",
       "    <tr style=\"text-align: right;\">\n",
       "      <th></th>\n",
       "      <th>Store</th>\n",
       "      <th>Dept</th>\n",
       "      <th>IsHoliday</th>\n",
       "      <th>Year</th>\n",
       "      <th>Month</th>\n",
       "      <th>Week</th>\n",
       "      <th>Day</th>\n",
       "      <th>Store_size</th>\n",
       "      <th>Weekly_Sales</th>\n",
       "    </tr>\n",
       "  </thead>\n",
       "  <tbody>\n",
       "    <tr>\n",
       "      <th>0</th>\n",
       "      <td>1</td>\n",
       "      <td>1</td>\n",
       "      <td>0</td>\n",
       "      <td>2</td>\n",
       "      <td>12</td>\n",
       "      <td>0</td>\n",
       "      <td>7</td>\n",
       "      <td>151315</td>\n",
       "      <td>23350.88</td>\n",
       "    </tr>\n",
       "    <tr>\n",
       "      <th>1</th>\n",
       "      <td>1</td>\n",
       "      <td>1</td>\n",
       "      <td>0</td>\n",
       "      <td>2</td>\n",
       "      <td>12</td>\n",
       "      <td>1</td>\n",
       "      <td>14</td>\n",
       "      <td>151315</td>\n",
       "      <td>33305.92</td>\n",
       "    </tr>\n",
       "    <tr>\n",
       "      <th>2</th>\n",
       "      <td>1</td>\n",
       "      <td>1</td>\n",
       "      <td>0</td>\n",
       "      <td>2</td>\n",
       "      <td>12</td>\n",
       "      <td>2</td>\n",
       "      <td>21</td>\n",
       "      <td>151315</td>\n",
       "      <td>29046.88</td>\n",
       "    </tr>\n",
       "    <tr>\n",
       "      <th>3</th>\n",
       "      <td>1</td>\n",
       "      <td>1</td>\n",
       "      <td>1</td>\n",
       "      <td>2</td>\n",
       "      <td>12</td>\n",
       "      <td>3</td>\n",
       "      <td>28</td>\n",
       "      <td>151315</td>\n",
       "      <td>46788.75</td>\n",
       "    </tr>\n",
       "    <tr>\n",
       "      <th>4</th>\n",
       "      <td>1</td>\n",
       "      <td>2</td>\n",
       "      <td>0</td>\n",
       "      <td>2</td>\n",
       "      <td>12</td>\n",
       "      <td>0</td>\n",
       "      <td>7</td>\n",
       "      <td>151315</td>\n",
       "      <td>45928.14</td>\n",
       "    </tr>\n",
       "  </tbody>\n",
       "</table>\n",
       "</div>"
      ],
      "text/plain": [
       "   Store  Dept  IsHoliday  Year  Month  Week  Day  Store_size  Weekly_Sales\n",
       "0      1     1          0     2     12     0    7      151315      23350.88\n",
       "1      1     1          0     2     12     1   14      151315      33305.92\n",
       "2      1     1          0     2     12     2   21      151315      29046.88\n",
       "3      1     1          1     2     12     3   28      151315      46788.75\n",
       "4      1     2          0     2     12     0    7      151315      45928.14"
      ]
     },
     "execution_count": 36,
     "metadata": {},
     "output_type": "execute_result"
    }
   ],
   "source": [
    "final_df = final_df[['Store', 'Dept', 'IsHoliday', 'Year', 'Month', 'Week', 'Day', 'Store_size', 'Weekly_Sales']].copy()\n",
    "final_df.head()"
   ]
  },
  {
   "cell_type": "code",
   "execution_count": 35,
   "id": "24d44973",
   "metadata": {},
   "outputs": [
    {
     "data": {
      "text/html": [
       "<div>\n",
       "<style scoped>\n",
       "    .dataframe tbody tr th:only-of-type {\n",
       "        vertical-align: middle;\n",
       "    }\n",
       "\n",
       "    .dataframe tbody tr th {\n",
       "        vertical-align: top;\n",
       "    }\n",
       "\n",
       "    .dataframe thead th {\n",
       "        text-align: right;\n",
       "    }\n",
       "</style>\n",
       "<table border=\"1\" class=\"dataframe\">\n",
       "  <thead>\n",
       "    <tr style=\"text-align: right;\">\n",
       "      <th></th>\n",
       "      <th>Store</th>\n",
       "      <th>Dept</th>\n",
       "      <th>IsHoliday</th>\n",
       "      <th>Year</th>\n",
       "      <th>Month</th>\n",
       "      <th>Week</th>\n",
       "      <th>Day</th>\n",
       "      <th>Store_size</th>\n",
       "      <th>Weekly_Sales</th>\n",
       "    </tr>\n",
       "  </thead>\n",
       "  <tbody>\n",
       "    <tr>\n",
       "      <th>0</th>\n",
       "      <td>1</td>\n",
       "      <td>1</td>\n",
       "      <td>0</td>\n",
       "      <td>1</td>\n",
       "      <td>12</td>\n",
       "      <td>0</td>\n",
       "      <td>2</td>\n",
       "      <td>151315</td>\n",
       "      <td>25293.49</td>\n",
       "    </tr>\n",
       "    <tr>\n",
       "      <th>1</th>\n",
       "      <td>1</td>\n",
       "      <td>2</td>\n",
       "      <td>0</td>\n",
       "      <td>1</td>\n",
       "      <td>12</td>\n",
       "      <td>0</td>\n",
       "      <td>2</td>\n",
       "      <td>151315</td>\n",
       "      <td>45928.14</td>\n",
       "    </tr>\n",
       "    <tr>\n",
       "      <th>2</th>\n",
       "      <td>1</td>\n",
       "      <td>3</td>\n",
       "      <td>0</td>\n",
       "      <td>1</td>\n",
       "      <td>12</td>\n",
       "      <td>0</td>\n",
       "      <td>2</td>\n",
       "      <td>151315</td>\n",
       "      <td>10146.54</td>\n",
       "    </tr>\n",
       "    <tr>\n",
       "      <th>3</th>\n",
       "      <td>1</td>\n",
       "      <td>4</td>\n",
       "      <td>0</td>\n",
       "      <td>1</td>\n",
       "      <td>12</td>\n",
       "      <td>0</td>\n",
       "      <td>2</td>\n",
       "      <td>151315</td>\n",
       "      <td>38489.63</td>\n",
       "    </tr>\n",
       "    <tr>\n",
       "      <th>4</th>\n",
       "      <td>1</td>\n",
       "      <td>5</td>\n",
       "      <td>0</td>\n",
       "      <td>1</td>\n",
       "      <td>12</td>\n",
       "      <td>0</td>\n",
       "      <td>2</td>\n",
       "      <td>151315</td>\n",
       "      <td>32572.27</td>\n",
       "    </tr>\n",
       "  </tbody>\n",
       "</table>\n",
       "</div>"
      ],
      "text/plain": [
       "   Store  Dept  IsHoliday  Year  Month  Week  Day  Store_size  Weekly_Sales\n",
       "0      1     1          0     1     12     0    2      151315      25293.49\n",
       "1      1     2          0     1     12     0    2      151315      45928.14\n",
       "2      1     3          0     1     12     0    2      151315      10146.54\n",
       "3      1     4          0     1     12     0    2      151315      38489.63\n",
       "4      1     5          0     1     12     0    2      151315      32572.27"
      ]
     },
     "execution_count": 35,
     "metadata": {},
     "output_type": "execute_result"
    }
   ],
   "source": [
    "train_set = train_set[['Store', 'Dept', 'IsHoliday', 'Year', 'Month', 'Week', 'Day', 'Store_size', 'Weekly_Sales']].copy()\n",
    "train_set.head()"
   ]
  },
  {
   "cell_type": "code",
   "execution_count": 38,
   "id": "09ad1f04",
   "metadata": {},
   "outputs": [],
   "source": [
    "train_set.to_csv('train_set_df.csv')\n",
    "final_df.to_csv('final_df.csv')"
   ]
  }
 ],
 "metadata": {
  "kernelspec": {
   "display_name": "Python 3 (ipykernel)",
   "language": "python",
   "name": "python3"
  },
  "language_info": {
   "codemirror_mode": {
    "name": "ipython",
    "version": 3
   },
   "file_extension": ".py",
   "mimetype": "text/x-python",
   "name": "python",
   "nbconvert_exporter": "python",
   "pygments_lexer": "ipython3",
   "version": "3.9.12"
  }
 },
 "nbformat": 4,
 "nbformat_minor": 5
}
