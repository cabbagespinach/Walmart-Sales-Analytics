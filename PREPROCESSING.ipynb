{
 "cells": [
  {
   "cell_type": "markdown",
   "id": "9ab89755",
   "metadata": {},
   "source": [
    "# Walmart Retail Analytics"
   ]
  },
  {
   "cell_type": "markdown",
   "id": "e799b609",
   "metadata": {},
   "source": [
    "### I. Initial Steps"
   ]
  },
  {
   "cell_type": "markdown",
   "id": "1bd9e999",
   "metadata": {},
   "source": [
    "Import the packages"
   ]
  },
  {
   "cell_type": "code",
   "execution_count": 1,
   "id": "4c293745",
   "metadata": {
    "id": "4c293745"
   },
   "outputs": [],
   "source": [
    "# libraries\n",
    "import pandas as pd\n",
    "import numpy as np\n",
    "import seaborn as sns\n",
    "\n",
    "# built in packages\n",
    "import math\n",
    "from datetime import datetime\n",
    "\n",
    "# hide warnings\n",
    "import warnings\n",
    "warnings.filterwarnings('ignore')"
   ]
  },
  {
   "cell_type": "markdown",
   "id": "0974d4d5",
   "metadata": {},
   "source": [
    "Load the queried data <br>\n",
    "`Queried using Big Query: https://console.cloud.google.com/bigquery?sq=936168413614:1d9ff9c5249a4e1eae5bc257061cb810`"
   ]
  },
  {
   "cell_type": "code",
   "execution_count": 2,
   "id": "7945b80b",
   "metadata": {
    "id": "7945b80b"
   },
   "outputs": [],
   "source": [
    "data = pd.read_csv('walmart train set with features.csv')"
   ]
  },
  {
   "cell_type": "markdown",
   "id": "0014b192",
   "metadata": {},
   "source": [
    "Take a peak"
   ]
  },
  {
   "cell_type": "code",
   "execution_count": 3,
   "id": "73145b95",
   "metadata": {
    "id": "73145b95",
    "outputId": "da166414-d350-4ed0-ed11-6e1f2299bb84"
   },
   "outputs": [
    {
     "data": {
      "text/html": [
       "<div>\n",
       "<style scoped>\n",
       "    .dataframe tbody tr th:only-of-type {\n",
       "        vertical-align: middle;\n",
       "    }\n",
       "\n",
       "    .dataframe tbody tr th {\n",
       "        vertical-align: top;\n",
       "    }\n",
       "\n",
       "    .dataframe thead th {\n",
       "        text-align: right;\n",
       "    }\n",
       "</style>\n",
       "<table border=\"1\" class=\"dataframe\">\n",
       "  <thead>\n",
       "    <tr style=\"text-align: right;\">\n",
       "      <th></th>\n",
       "      <th>Store</th>\n",
       "      <th>Date</th>\n",
       "      <th>Weekly_Sales</th>\n",
       "      <th>IsHoliday</th>\n",
       "      <th>Dept</th>\n",
       "      <th>CPI</th>\n",
       "      <th>Temperature</th>\n",
       "      <th>Fuel_Price</th>\n",
       "      <th>MarkDown1</th>\n",
       "      <th>MarkDown2</th>\n",
       "      <th>MarkDown3</th>\n",
       "      <th>MarkDown4</th>\n",
       "      <th>MarkDown5</th>\n",
       "      <th>Unemployment</th>\n",
       "    </tr>\n",
       "  </thead>\n",
       "  <tbody>\n",
       "    <tr>\n",
       "      <th>0</th>\n",
       "      <td>1</td>\n",
       "      <td>2010-08-27</td>\n",
       "      <td>15793.87</td>\n",
       "      <td>False</td>\n",
       "      <td>1</td>\n",
       "      <td>211.567306</td>\n",
       "      <td>85.22</td>\n",
       "      <td>2.619</td>\n",
       "      <td>NaN</td>\n",
       "      <td>NaN</td>\n",
       "      <td>NaN</td>\n",
       "      <td>NaN</td>\n",
       "      <td>NaN</td>\n",
       "      <td>7.787</td>\n",
       "    </tr>\n",
       "    <tr>\n",
       "      <th>1</th>\n",
       "      <td>1</td>\n",
       "      <td>2010-08-27</td>\n",
       "      <td>49623.53</td>\n",
       "      <td>False</td>\n",
       "      <td>2</td>\n",
       "      <td>211.567306</td>\n",
       "      <td>85.22</td>\n",
       "      <td>2.619</td>\n",
       "      <td>NaN</td>\n",
       "      <td>NaN</td>\n",
       "      <td>NaN</td>\n",
       "      <td>NaN</td>\n",
       "      <td>NaN</td>\n",
       "      <td>7.787</td>\n",
       "    </tr>\n",
       "    <tr>\n",
       "      <th>2</th>\n",
       "      <td>1</td>\n",
       "      <td>2010-08-27</td>\n",
       "      <td>51159.17</td>\n",
       "      <td>False</td>\n",
       "      <td>3</td>\n",
       "      <td>211.567306</td>\n",
       "      <td>85.22</td>\n",
       "      <td>2.619</td>\n",
       "      <td>NaN</td>\n",
       "      <td>NaN</td>\n",
       "      <td>NaN</td>\n",
       "      <td>NaN</td>\n",
       "      <td>NaN</td>\n",
       "      <td>7.787</td>\n",
       "    </tr>\n",
       "    <tr>\n",
       "      <th>3</th>\n",
       "      <td>1</td>\n",
       "      <td>2010-08-27</td>\n",
       "      <td>36404.60</td>\n",
       "      <td>False</td>\n",
       "      <td>4</td>\n",
       "      <td>211.567306</td>\n",
       "      <td>85.22</td>\n",
       "      <td>2.619</td>\n",
       "      <td>NaN</td>\n",
       "      <td>NaN</td>\n",
       "      <td>NaN</td>\n",
       "      <td>NaN</td>\n",
       "      <td>NaN</td>\n",
       "      <td>7.787</td>\n",
       "    </tr>\n",
       "    <tr>\n",
       "      <th>4</th>\n",
       "      <td>1</td>\n",
       "      <td>2010-08-27</td>\n",
       "      <td>13570.32</td>\n",
       "      <td>False</td>\n",
       "      <td>5</td>\n",
       "      <td>211.567306</td>\n",
       "      <td>85.22</td>\n",
       "      <td>2.619</td>\n",
       "      <td>NaN</td>\n",
       "      <td>NaN</td>\n",
       "      <td>NaN</td>\n",
       "      <td>NaN</td>\n",
       "      <td>NaN</td>\n",
       "      <td>7.787</td>\n",
       "    </tr>\n",
       "  </tbody>\n",
       "</table>\n",
       "</div>"
      ],
      "text/plain": [
       "   Store        Date  Weekly_Sales  IsHoliday  Dept         CPI  Temperature  \\\n",
       "0      1  2010-08-27      15793.87      False     1  211.567306        85.22   \n",
       "1      1  2010-08-27      49623.53      False     2  211.567306        85.22   \n",
       "2      1  2010-08-27      51159.17      False     3  211.567306        85.22   \n",
       "3      1  2010-08-27      36404.60      False     4  211.567306        85.22   \n",
       "4      1  2010-08-27      13570.32      False     5  211.567306        85.22   \n",
       "\n",
       "   Fuel_Price  MarkDown1  MarkDown2  MarkDown3  MarkDown4  MarkDown5  \\\n",
       "0       2.619        NaN        NaN        NaN        NaN        NaN   \n",
       "1       2.619        NaN        NaN        NaN        NaN        NaN   \n",
       "2       2.619        NaN        NaN        NaN        NaN        NaN   \n",
       "3       2.619        NaN        NaN        NaN        NaN        NaN   \n",
       "4       2.619        NaN        NaN        NaN        NaN        NaN   \n",
       "\n",
       "   Unemployment  \n",
       "0         7.787  \n",
       "1         7.787  \n",
       "2         7.787  \n",
       "3         7.787  \n",
       "4         7.787  "
      ]
     },
     "execution_count": 3,
     "metadata": {},
     "output_type": "execute_result"
    }
   ],
   "source": [
    "data.head()"
   ]
  },
  {
   "cell_type": "markdown",
   "id": "10142ff9",
   "metadata": {},
   "source": [
    "### II. Data Preprocessing for Visualization"
   ]
  },
  {
   "cell_type": "markdown",
   "id": "13a547dc",
   "metadata": {},
   "source": [
    "Extract the year, month, and day from the Date column"
   ]
  },
  {
   "cell_type": "code",
   "execution_count": 4,
   "id": "fa6d8e67",
   "metadata": {
    "id": "fa6d8e67"
   },
   "outputs": [],
   "source": [
    "data['Month'] = pd.DatetimeIndex(data['Date']).month\n",
    "data['Day'] = pd.DatetimeIndex(data['Date']).day\n",
    "data['Year'] = pd.DatetimeIndex(data['Date']).year"
   ]
  },
  {
   "cell_type": "markdown",
   "id": "f79df736",
   "metadata": {},
   "source": [
    "Replace the numeric value of the month column with the equivalent Month"
   ]
  },
  {
   "cell_type": "code",
   "execution_count": 5,
   "id": "b65d1743",
   "metadata": {
    "id": "b65d1743"
   },
   "outputs": [],
   "source": [
    "Months = {1: 'J', 2: 'F', 3: 'M', 4: 'A', 5: 'My', 6: 'Jn', 7: 'Jl',\n",
    "         8: 'Au', 9: 'S', 10: 'O', 11: 'N', 12: 'D'}\n",
    "\n",
    "data['Month'] = data['Month'].apply(lambda x: Months[int(x)])"
   ]
  },
  {
   "cell_type": "markdown",
   "id": "405e9710",
   "metadata": {},
   "source": [
    "Get rid of the Date column"
   ]
  },
  {
   "cell_type": "code",
   "execution_count": 6,
   "id": "3c27424b",
   "metadata": {
    "id": "3c27424b",
    "outputId": "ede75757-d003-4ade-e983-485c35ab423a"
   },
   "outputs": [
    {
     "data": {
      "text/html": [
       "<div>\n",
       "<style scoped>\n",
       "    .dataframe tbody tr th:only-of-type {\n",
       "        vertical-align: middle;\n",
       "    }\n",
       "\n",
       "    .dataframe tbody tr th {\n",
       "        vertical-align: top;\n",
       "    }\n",
       "\n",
       "    .dataframe thead th {\n",
       "        text-align: right;\n",
       "    }\n",
       "</style>\n",
       "<table border=\"1\" class=\"dataframe\">\n",
       "  <thead>\n",
       "    <tr style=\"text-align: right;\">\n",
       "      <th></th>\n",
       "      <th>Store</th>\n",
       "      <th>Weekly_Sales</th>\n",
       "      <th>IsHoliday</th>\n",
       "      <th>Dept</th>\n",
       "      <th>CPI</th>\n",
       "      <th>Temperature</th>\n",
       "      <th>Fuel_Price</th>\n",
       "      <th>MarkDown1</th>\n",
       "      <th>MarkDown2</th>\n",
       "      <th>MarkDown3</th>\n",
       "      <th>MarkDown4</th>\n",
       "      <th>MarkDown5</th>\n",
       "      <th>Unemployment</th>\n",
       "      <th>Month</th>\n",
       "      <th>Day</th>\n",
       "      <th>Year</th>\n",
       "    </tr>\n",
       "  </thead>\n",
       "  <tbody>\n",
       "    <tr>\n",
       "      <th>0</th>\n",
       "      <td>1</td>\n",
       "      <td>15793.87</td>\n",
       "      <td>False</td>\n",
       "      <td>1</td>\n",
       "      <td>211.567306</td>\n",
       "      <td>85.22</td>\n",
       "      <td>2.619</td>\n",
       "      <td>NaN</td>\n",
       "      <td>NaN</td>\n",
       "      <td>NaN</td>\n",
       "      <td>NaN</td>\n",
       "      <td>NaN</td>\n",
       "      <td>7.787</td>\n",
       "      <td>Au</td>\n",
       "      <td>27</td>\n",
       "      <td>2010</td>\n",
       "    </tr>\n",
       "    <tr>\n",
       "      <th>1</th>\n",
       "      <td>1</td>\n",
       "      <td>49623.53</td>\n",
       "      <td>False</td>\n",
       "      <td>2</td>\n",
       "      <td>211.567306</td>\n",
       "      <td>85.22</td>\n",
       "      <td>2.619</td>\n",
       "      <td>NaN</td>\n",
       "      <td>NaN</td>\n",
       "      <td>NaN</td>\n",
       "      <td>NaN</td>\n",
       "      <td>NaN</td>\n",
       "      <td>7.787</td>\n",
       "      <td>Au</td>\n",
       "      <td>27</td>\n",
       "      <td>2010</td>\n",
       "    </tr>\n",
       "    <tr>\n",
       "      <th>2</th>\n",
       "      <td>1</td>\n",
       "      <td>51159.17</td>\n",
       "      <td>False</td>\n",
       "      <td>3</td>\n",
       "      <td>211.567306</td>\n",
       "      <td>85.22</td>\n",
       "      <td>2.619</td>\n",
       "      <td>NaN</td>\n",
       "      <td>NaN</td>\n",
       "      <td>NaN</td>\n",
       "      <td>NaN</td>\n",
       "      <td>NaN</td>\n",
       "      <td>7.787</td>\n",
       "      <td>Au</td>\n",
       "      <td>27</td>\n",
       "      <td>2010</td>\n",
       "    </tr>\n",
       "    <tr>\n",
       "      <th>3</th>\n",
       "      <td>1</td>\n",
       "      <td>36404.60</td>\n",
       "      <td>False</td>\n",
       "      <td>4</td>\n",
       "      <td>211.567306</td>\n",
       "      <td>85.22</td>\n",
       "      <td>2.619</td>\n",
       "      <td>NaN</td>\n",
       "      <td>NaN</td>\n",
       "      <td>NaN</td>\n",
       "      <td>NaN</td>\n",
       "      <td>NaN</td>\n",
       "      <td>7.787</td>\n",
       "      <td>Au</td>\n",
       "      <td>27</td>\n",
       "      <td>2010</td>\n",
       "    </tr>\n",
       "    <tr>\n",
       "      <th>4</th>\n",
       "      <td>1</td>\n",
       "      <td>13570.32</td>\n",
       "      <td>False</td>\n",
       "      <td>5</td>\n",
       "      <td>211.567306</td>\n",
       "      <td>85.22</td>\n",
       "      <td>2.619</td>\n",
       "      <td>NaN</td>\n",
       "      <td>NaN</td>\n",
       "      <td>NaN</td>\n",
       "      <td>NaN</td>\n",
       "      <td>NaN</td>\n",
       "      <td>7.787</td>\n",
       "      <td>Au</td>\n",
       "      <td>27</td>\n",
       "      <td>2010</td>\n",
       "    </tr>\n",
       "    <tr>\n",
       "      <th>...</th>\n",
       "      <td>...</td>\n",
       "      <td>...</td>\n",
       "      <td>...</td>\n",
       "      <td>...</td>\n",
       "      <td>...</td>\n",
       "      <td>...</td>\n",
       "      <td>...</td>\n",
       "      <td>...</td>\n",
       "      <td>...</td>\n",
       "      <td>...</td>\n",
       "      <td>...</td>\n",
       "      <td>...</td>\n",
       "      <td>...</td>\n",
       "      <td>...</td>\n",
       "      <td>...</td>\n",
       "      <td>...</td>\n",
       "    </tr>\n",
       "    <tr>\n",
       "      <th>421565</th>\n",
       "      <td>45</td>\n",
       "      <td>1776.44</td>\n",
       "      <td>False</td>\n",
       "      <td>93</td>\n",
       "      <td>189.421473</td>\n",
       "      <td>31.85</td>\n",
       "      <td>3.533</td>\n",
       "      <td>3205.9</td>\n",
       "      <td>4038.51</td>\n",
       "      <td>2.19</td>\n",
       "      <td>488.63</td>\n",
       "      <td>2344.09</td>\n",
       "      <td>8.424</td>\n",
       "      <td>J</td>\n",
       "      <td>20</td>\n",
       "      <td>2012</td>\n",
       "    </tr>\n",
       "    <tr>\n",
       "      <th>421566</th>\n",
       "      <td>45</td>\n",
       "      <td>4120.46</td>\n",
       "      <td>False</td>\n",
       "      <td>94</td>\n",
       "      <td>189.421473</td>\n",
       "      <td>31.85</td>\n",
       "      <td>3.533</td>\n",
       "      <td>3205.9</td>\n",
       "      <td>4038.51</td>\n",
       "      <td>2.19</td>\n",
       "      <td>488.63</td>\n",
       "      <td>2344.09</td>\n",
       "      <td>8.424</td>\n",
       "      <td>J</td>\n",
       "      <td>20</td>\n",
       "      <td>2012</td>\n",
       "    </tr>\n",
       "    <tr>\n",
       "      <th>421567</th>\n",
       "      <td>45</td>\n",
       "      <td>50973.62</td>\n",
       "      <td>False</td>\n",
       "      <td>95</td>\n",
       "      <td>189.421473</td>\n",
       "      <td>31.85</td>\n",
       "      <td>3.533</td>\n",
       "      <td>3205.9</td>\n",
       "      <td>4038.51</td>\n",
       "      <td>2.19</td>\n",
       "      <td>488.63</td>\n",
       "      <td>2344.09</td>\n",
       "      <td>8.424</td>\n",
       "      <td>J</td>\n",
       "      <td>20</td>\n",
       "      <td>2012</td>\n",
       "    </tr>\n",
       "    <tr>\n",
       "      <th>421568</th>\n",
       "      <td>45</td>\n",
       "      <td>6371.68</td>\n",
       "      <td>False</td>\n",
       "      <td>97</td>\n",
       "      <td>189.421473</td>\n",
       "      <td>31.85</td>\n",
       "      <td>3.533</td>\n",
       "      <td>3205.9</td>\n",
       "      <td>4038.51</td>\n",
       "      <td>2.19</td>\n",
       "      <td>488.63</td>\n",
       "      <td>2344.09</td>\n",
       "      <td>8.424</td>\n",
       "      <td>J</td>\n",
       "      <td>20</td>\n",
       "      <td>2012</td>\n",
       "    </tr>\n",
       "    <tr>\n",
       "      <th>421569</th>\n",
       "      <td>45</td>\n",
       "      <td>848.84</td>\n",
       "      <td>False</td>\n",
       "      <td>98</td>\n",
       "      <td>189.421473</td>\n",
       "      <td>31.85</td>\n",
       "      <td>3.533</td>\n",
       "      <td>3205.9</td>\n",
       "      <td>4038.51</td>\n",
       "      <td>2.19</td>\n",
       "      <td>488.63</td>\n",
       "      <td>2344.09</td>\n",
       "      <td>8.424</td>\n",
       "      <td>J</td>\n",
       "      <td>20</td>\n",
       "      <td>2012</td>\n",
       "    </tr>\n",
       "  </tbody>\n",
       "</table>\n",
       "<p>421570 rows × 16 columns</p>\n",
       "</div>"
      ],
      "text/plain": [
       "        Store  Weekly_Sales  IsHoliday  Dept         CPI  Temperature  \\\n",
       "0           1      15793.87      False     1  211.567306        85.22   \n",
       "1           1      49623.53      False     2  211.567306        85.22   \n",
       "2           1      51159.17      False     3  211.567306        85.22   \n",
       "3           1      36404.60      False     4  211.567306        85.22   \n",
       "4           1      13570.32      False     5  211.567306        85.22   \n",
       "...       ...           ...        ...   ...         ...          ...   \n",
       "421565     45       1776.44      False    93  189.421473        31.85   \n",
       "421566     45       4120.46      False    94  189.421473        31.85   \n",
       "421567     45      50973.62      False    95  189.421473        31.85   \n",
       "421568     45       6371.68      False    97  189.421473        31.85   \n",
       "421569     45        848.84      False    98  189.421473        31.85   \n",
       "\n",
       "        Fuel_Price  MarkDown1  MarkDown2  MarkDown3  MarkDown4  MarkDown5  \\\n",
       "0            2.619        NaN        NaN        NaN        NaN        NaN   \n",
       "1            2.619        NaN        NaN        NaN        NaN        NaN   \n",
       "2            2.619        NaN        NaN        NaN        NaN        NaN   \n",
       "3            2.619        NaN        NaN        NaN        NaN        NaN   \n",
       "4            2.619        NaN        NaN        NaN        NaN        NaN   \n",
       "...            ...        ...        ...        ...        ...        ...   \n",
       "421565       3.533     3205.9    4038.51       2.19     488.63    2344.09   \n",
       "421566       3.533     3205.9    4038.51       2.19     488.63    2344.09   \n",
       "421567       3.533     3205.9    4038.51       2.19     488.63    2344.09   \n",
       "421568       3.533     3205.9    4038.51       2.19     488.63    2344.09   \n",
       "421569       3.533     3205.9    4038.51       2.19     488.63    2344.09   \n",
       "\n",
       "        Unemployment Month  Day  Year  \n",
       "0              7.787    Au   27  2010  \n",
       "1              7.787    Au   27  2010  \n",
       "2              7.787    Au   27  2010  \n",
       "3              7.787    Au   27  2010  \n",
       "4              7.787    Au   27  2010  \n",
       "...              ...   ...  ...   ...  \n",
       "421565         8.424     J   20  2012  \n",
       "421566         8.424     J   20  2012  \n",
       "421567         8.424     J   20  2012  \n",
       "421568         8.424     J   20  2012  \n",
       "421569         8.424     J   20  2012  \n",
       "\n",
       "[421570 rows x 16 columns]"
      ]
     },
     "execution_count": 6,
     "metadata": {},
     "output_type": "execute_result"
    }
   ],
   "source": [
    "data.drop(['Date'], axis=1)"
   ]
  },
  {
   "cell_type": "markdown",
   "id": "701c9126",
   "metadata": {},
   "source": [
    "Looking at the measures of the data, we will notice that the minimum value of Weekly Sales is negative. This is problematic because we're talking about Sales, not revenue so it can't be negative. Since we don't have info on whether a robbery happened in this stores or if it was a typographical error, we have to remove the negative values."
   ]
  },
  {
   "cell_type": "code",
   "execution_count": 7,
   "id": "48f636fb",
   "metadata": {},
   "outputs": [
    {
     "data": {
      "text/html": [
       "<div>\n",
       "<style scoped>\n",
       "    .dataframe tbody tr th:only-of-type {\n",
       "        vertical-align: middle;\n",
       "    }\n",
       "\n",
       "    .dataframe tbody tr th {\n",
       "        vertical-align: top;\n",
       "    }\n",
       "\n",
       "    .dataframe thead th {\n",
       "        text-align: right;\n",
       "    }\n",
       "</style>\n",
       "<table border=\"1\" class=\"dataframe\">\n",
       "  <thead>\n",
       "    <tr style=\"text-align: right;\">\n",
       "      <th></th>\n",
       "      <th>Store</th>\n",
       "      <th>Weekly_Sales</th>\n",
       "      <th>Dept</th>\n",
       "      <th>CPI</th>\n",
       "      <th>Temperature</th>\n",
       "      <th>Fuel_Price</th>\n",
       "      <th>MarkDown1</th>\n",
       "      <th>MarkDown2</th>\n",
       "      <th>MarkDown3</th>\n",
       "      <th>MarkDown4</th>\n",
       "      <th>MarkDown5</th>\n",
       "      <th>Unemployment</th>\n",
       "      <th>Day</th>\n",
       "      <th>Year</th>\n",
       "    </tr>\n",
       "  </thead>\n",
       "  <tbody>\n",
       "    <tr>\n",
       "      <th>count</th>\n",
       "      <td>421570.000000</td>\n",
       "      <td>421570.000000</td>\n",
       "      <td>421570.000000</td>\n",
       "      <td>421570.000000</td>\n",
       "      <td>421570.000000</td>\n",
       "      <td>421570.000000</td>\n",
       "      <td>150681.000000</td>\n",
       "      <td>111248.000000</td>\n",
       "      <td>137091.000000</td>\n",
       "      <td>134967.000000</td>\n",
       "      <td>151432.000000</td>\n",
       "      <td>421570.000000</td>\n",
       "      <td>421570.000000</td>\n",
       "      <td>421570.000000</td>\n",
       "    </tr>\n",
       "    <tr>\n",
       "      <th>mean</th>\n",
       "      <td>22.200546</td>\n",
       "      <td>15981.258123</td>\n",
       "      <td>44.260317</td>\n",
       "      <td>171.201947</td>\n",
       "      <td>60.090059</td>\n",
       "      <td>3.361027</td>\n",
       "      <td>7246.420196</td>\n",
       "      <td>3334.628621</td>\n",
       "      <td>1439.421384</td>\n",
       "      <td>3383.168256</td>\n",
       "      <td>4628.975079</td>\n",
       "      <td>7.960289</td>\n",
       "      <td>15.673131</td>\n",
       "      <td>2010.968591</td>\n",
       "    </tr>\n",
       "    <tr>\n",
       "      <th>std</th>\n",
       "      <td>12.785297</td>\n",
       "      <td>22711.183519</td>\n",
       "      <td>30.492054</td>\n",
       "      <td>39.159276</td>\n",
       "      <td>18.447931</td>\n",
       "      <td>0.458515</td>\n",
       "      <td>8291.221345</td>\n",
       "      <td>9475.357325</td>\n",
       "      <td>9623.078290</td>\n",
       "      <td>6292.384031</td>\n",
       "      <td>5962.887455</td>\n",
       "      <td>1.863296</td>\n",
       "      <td>8.753549</td>\n",
       "      <td>0.796876</td>\n",
       "    </tr>\n",
       "    <tr>\n",
       "      <th>min</th>\n",
       "      <td>1.000000</td>\n",
       "      <td>-4988.940000</td>\n",
       "      <td>1.000000</td>\n",
       "      <td>126.064000</td>\n",
       "      <td>-2.060000</td>\n",
       "      <td>2.472000</td>\n",
       "      <td>0.270000</td>\n",
       "      <td>-265.760000</td>\n",
       "      <td>-29.100000</td>\n",
       "      <td>0.220000</td>\n",
       "      <td>135.160000</td>\n",
       "      <td>3.879000</td>\n",
       "      <td>1.000000</td>\n",
       "      <td>2010.000000</td>\n",
       "    </tr>\n",
       "    <tr>\n",
       "      <th>25%</th>\n",
       "      <td>11.000000</td>\n",
       "      <td>2079.650000</td>\n",
       "      <td>18.000000</td>\n",
       "      <td>132.022667</td>\n",
       "      <td>46.680000</td>\n",
       "      <td>2.933000</td>\n",
       "      <td>2240.270000</td>\n",
       "      <td>41.600000</td>\n",
       "      <td>5.080000</td>\n",
       "      <td>504.220000</td>\n",
       "      <td>1878.440000</td>\n",
       "      <td>6.891000</td>\n",
       "      <td>8.000000</td>\n",
       "      <td>2010.000000</td>\n",
       "    </tr>\n",
       "    <tr>\n",
       "      <th>50%</th>\n",
       "      <td>22.000000</td>\n",
       "      <td>7612.030000</td>\n",
       "      <td>37.000000</td>\n",
       "      <td>182.318780</td>\n",
       "      <td>62.090000</td>\n",
       "      <td>3.452000</td>\n",
       "      <td>5347.450000</td>\n",
       "      <td>192.000000</td>\n",
       "      <td>24.600000</td>\n",
       "      <td>1481.310000</td>\n",
       "      <td>3359.450000</td>\n",
       "      <td>7.866000</td>\n",
       "      <td>16.000000</td>\n",
       "      <td>2011.000000</td>\n",
       "    </tr>\n",
       "    <tr>\n",
       "      <th>75%</th>\n",
       "      <td>33.000000</td>\n",
       "      <td>20205.852500</td>\n",
       "      <td>74.000000</td>\n",
       "      <td>212.416993</td>\n",
       "      <td>74.280000</td>\n",
       "      <td>3.738000</td>\n",
       "      <td>9210.900000</td>\n",
       "      <td>1926.940000</td>\n",
       "      <td>103.990000</td>\n",
       "      <td>3595.040000</td>\n",
       "      <td>5563.800000</td>\n",
       "      <td>8.572000</td>\n",
       "      <td>23.000000</td>\n",
       "      <td>2012.000000</td>\n",
       "    </tr>\n",
       "    <tr>\n",
       "      <th>max</th>\n",
       "      <td>45.000000</td>\n",
       "      <td>693099.360000</td>\n",
       "      <td>99.000000</td>\n",
       "      <td>227.232807</td>\n",
       "      <td>100.140000</td>\n",
       "      <td>4.468000</td>\n",
       "      <td>88646.760000</td>\n",
       "      <td>104519.540000</td>\n",
       "      <td>141630.610000</td>\n",
       "      <td>67474.850000</td>\n",
       "      <td>108519.280000</td>\n",
       "      <td>14.313000</td>\n",
       "      <td>31.000000</td>\n",
       "      <td>2012.000000</td>\n",
       "    </tr>\n",
       "  </tbody>\n",
       "</table>\n",
       "</div>"
      ],
      "text/plain": [
       "               Store   Weekly_Sales           Dept            CPI  \\\n",
       "count  421570.000000  421570.000000  421570.000000  421570.000000   \n",
       "mean       22.200546   15981.258123      44.260317     171.201947   \n",
       "std        12.785297   22711.183519      30.492054      39.159276   \n",
       "min         1.000000   -4988.940000       1.000000     126.064000   \n",
       "25%        11.000000    2079.650000      18.000000     132.022667   \n",
       "50%        22.000000    7612.030000      37.000000     182.318780   \n",
       "75%        33.000000   20205.852500      74.000000     212.416993   \n",
       "max        45.000000  693099.360000      99.000000     227.232807   \n",
       "\n",
       "         Temperature     Fuel_Price      MarkDown1      MarkDown2  \\\n",
       "count  421570.000000  421570.000000  150681.000000  111248.000000   \n",
       "mean       60.090059       3.361027    7246.420196    3334.628621   \n",
       "std        18.447931       0.458515    8291.221345    9475.357325   \n",
       "min        -2.060000       2.472000       0.270000    -265.760000   \n",
       "25%        46.680000       2.933000    2240.270000      41.600000   \n",
       "50%        62.090000       3.452000    5347.450000     192.000000   \n",
       "75%        74.280000       3.738000    9210.900000    1926.940000   \n",
       "max       100.140000       4.468000   88646.760000  104519.540000   \n",
       "\n",
       "           MarkDown3      MarkDown4      MarkDown5   Unemployment  \\\n",
       "count  137091.000000  134967.000000  151432.000000  421570.000000   \n",
       "mean     1439.421384    3383.168256    4628.975079       7.960289   \n",
       "std      9623.078290    6292.384031    5962.887455       1.863296   \n",
       "min       -29.100000       0.220000     135.160000       3.879000   \n",
       "25%         5.080000     504.220000    1878.440000       6.891000   \n",
       "50%        24.600000    1481.310000    3359.450000       7.866000   \n",
       "75%       103.990000    3595.040000    5563.800000       8.572000   \n",
       "max    141630.610000   67474.850000  108519.280000      14.313000   \n",
       "\n",
       "                 Day           Year  \n",
       "count  421570.000000  421570.000000  \n",
       "mean       15.673131    2010.968591  \n",
       "std         8.753549       0.796876  \n",
       "min         1.000000    2010.000000  \n",
       "25%         8.000000    2010.000000  \n",
       "50%        16.000000    2011.000000  \n",
       "75%        23.000000    2012.000000  \n",
       "max        31.000000    2012.000000  "
      ]
     },
     "execution_count": 7,
     "metadata": {},
     "output_type": "execute_result"
    }
   ],
   "source": [
    "data.describe()"
   ]
  },
  {
   "cell_type": "markdown",
   "id": "d2376614",
   "metadata": {},
   "source": [
    "After counting the negative values in the dataset, there are 1285 negative values. We can remove it since overall we have more than a hundred thousand data."
   ]
  },
  {
   "cell_type": "code",
   "execution_count": 8,
   "id": "63bd405f",
   "metadata": {},
   "outputs": [
    {
     "data": {
      "text/plain": [
       "(-1e-11, 1000000.0]      420285\n",
       "(-100000.001, -1e-11]      1285\n",
       "Name: Weekly_Sales, dtype: int64"
      ]
     },
     "execution_count": 8,
     "metadata": {},
     "output_type": "execute_result"
    }
   ],
   "source": [
    "data['Weekly_Sales'].value_counts(bins=[-100000, -0.00000000001, 1000000])"
   ]
  },
  {
   "cell_type": "markdown",
   "id": "e707f4da",
   "metadata": {},
   "source": [
    "To easily remove the negative values, convert them into nan."
   ]
  },
  {
   "cell_type": "code",
   "execution_count": 9,
   "id": "4a8ac57b",
   "metadata": {},
   "outputs": [],
   "source": [
    "data['Weekly_Sales'] = data['Weekly_Sales'].apply(lambda x: float('nan') if x < 0 else x)"
   ]
  },
  {
   "cell_type": "markdown",
   "id": "7548750d",
   "metadata": {},
   "source": [
    "This verifies that we have 1285 null values for the Weekly_Sales column. We will drop these null values later."
   ]
  },
  {
   "cell_type": "code",
   "execution_count": 10,
   "id": "939ecccb",
   "metadata": {
    "scrolled": true
   },
   "outputs": [
    {
     "data": {
      "text/plain": [
       "1285"
      ]
     },
     "execution_count": 10,
     "metadata": {},
     "output_type": "execute_result"
    }
   ],
   "source": [
    "data['Weekly_Sales'].isnull().sum()"
   ]
  },
  {
   "cell_type": "markdown",
   "id": "04ff4a84",
   "metadata": {},
   "source": [
    "### III. Separate the dataset into two:"
   ]
  },
  {
   "cell_type": "markdown",
   "id": "85497087",
   "metadata": {},
   "source": [
    "***Dataset 1:* To get rid of the null values and be able to analyze the effect of different variables on weekly sales, drop all the Markdown columns.**"
   ]
  },
  {
   "cell_type": "markdown",
   "id": "975cabe9",
   "metadata": {},
   "source": [
    "This is because there are a lot of null values in these columns."
   ]
  },
  {
   "cell_type": "code",
   "execution_count": 11,
   "id": "0a8f1315",
   "metadata": {
    "id": "0a8f1315"
   },
   "outputs": [],
   "source": [
    "MarkDown_array = ['MarkDown1', 'MarkDown2', 'MarkDown3', 'MarkDown4', 'MarkDown5']\n",
    "\n",
    "data_no_mark_down = data.drop(MarkDown_array, axis=1)"
   ]
  },
  {
   "cell_type": "markdown",
   "id": "ab10ede6",
   "metadata": {},
   "source": [
    "Drop the rows with null values for the new dataframe."
   ]
  },
  {
   "cell_type": "code",
   "execution_count": 12,
   "id": "19210093",
   "metadata": {},
   "outputs": [],
   "source": [
    "data_no_mark_down.dropna(inplace=True)"
   ]
  },
  {
   "cell_type": "markdown",
   "id": "dd93a244",
   "metadata": {},
   "source": [
    "Save the preprocessed data into a csv file."
   ]
  },
  {
   "cell_type": "code",
   "execution_count": 13,
   "id": "e1e1c414",
   "metadata": {},
   "outputs": [],
   "source": [
    "data_no_mark_down.to_csv('data_no_mark_down.csv')"
   ]
  },
  {
   "cell_type": "markdown",
   "id": "86247b2c",
   "metadata": {},
   "source": [
    "***Dataset 2:* To get the effect of Markdowns on Weekly Sales, drop the rows that contain no information on any Markdown.**"
   ]
  },
  {
   "cell_type": "markdown",
   "id": "55080dc0",
   "metadata": {},
   "source": [
    "The Markdown values was converted into absolute value to get rid of the negative since it doesn't make sense that Walmart will record their Markup values. It was also converted into string so that the nan values will turn into a string 'nan.'"
   ]
  },
  {
   "cell_type": "code",
   "execution_count": 14,
   "id": "734a0e64",
   "metadata": {},
   "outputs": [],
   "source": [
    "for i in MarkDown_array:\n",
    "    data[i] = data[i].apply(lambda x: str(abs(x)))"
   ]
  },
  {
   "cell_type": "markdown",
   "id": "78660ae7",
   "metadata": {},
   "source": [
    "A new column 'MD' was temporarily created to store the concatenated values of the 5 MarkDown columns. We turned nan into a string so those rows with null values for all the MarkDown columns will have 'nannannannannan' for their 'MD' column. That way, we can distinguish them and remove them."
   ]
  },
  {
   "cell_type": "code",
   "execution_count": 15,
   "id": "8ee82ac4",
   "metadata": {},
   "outputs": [],
   "source": [
    "data['MD'] = data['MarkDown1'] + data['MarkDown2'] + data['MarkDown3'] + data['MarkDown4'] + data['MarkDown5']"
   ]
  },
  {
   "cell_type": "markdown",
   "id": "00ae7ef5",
   "metadata": {},
   "source": [
    "To be able to easily remove those rows, they were turned into nan, which is a None type."
   ]
  },
  {
   "cell_type": "code",
   "execution_count": 16,
   "id": "9a0b95af",
   "metadata": {},
   "outputs": [],
   "source": [
    "data['MD'] = data['MD'].apply(lambda x: float('nan') if x == 'nannannannannan' else x)"
   ]
  },
  {
   "cell_type": "markdown",
   "id": "00400b0e",
   "metadata": {},
   "source": [
    "A single line of code was run to remove all the rows with null values. The next line removed the column 'MD' since it's not needed anymore."
   ]
  },
  {
   "cell_type": "code",
   "execution_count": 17,
   "id": "0a6376f7",
   "metadata": {
    "scrolled": true
   },
   "outputs": [],
   "source": [
    "data.dropna(inplace=True)\n",
    "data = data.drop(['MD'], axis = 1)"
   ]
  },
  {
   "cell_type": "markdown",
   "id": "86828cc6",
   "metadata": {},
   "source": [
    "The preprocessed data was saved into a csv file."
   ]
  },
  {
   "cell_type": "code",
   "execution_count": 18,
   "id": "32f082a4",
   "metadata": {},
   "outputs": [],
   "source": [
    "data.to_csv('data_with_markdown.csv')"
   ]
  },
  {
   "cell_type": "markdown",
   "id": "ad3db79a",
   "metadata": {},
   "source": [
    "*NEXT: VISUALIZATION*"
   ]
  },
  {
   "cell_type": "markdown",
   "id": "a1834b18",
   "metadata": {},
   "source": [
    "### IV. Data Preprocessing for Machine Learning"
   ]
  },
  {
   "cell_type": "markdown",
   "id": "25afda34",
   "metadata": {},
   "source": [
    "Load the unknown dataset."
   ]
  },
  {
   "cell_type": "code",
   "execution_count": 19,
   "id": "4317baa5",
   "metadata": {},
   "outputs": [
    {
     "data": {
      "text/html": [
       "<div>\n",
       "<style scoped>\n",
       "    .dataframe tbody tr th:only-of-type {\n",
       "        vertical-align: middle;\n",
       "    }\n",
       "\n",
       "    .dataframe tbody tr th {\n",
       "        vertical-align: top;\n",
       "    }\n",
       "\n",
       "    .dataframe thead th {\n",
       "        text-align: right;\n",
       "    }\n",
       "</style>\n",
       "<table border=\"1\" class=\"dataframe\">\n",
       "  <thead>\n",
       "    <tr style=\"text-align: right;\">\n",
       "      <th></th>\n",
       "      <th>Store</th>\n",
       "      <th>Dept</th>\n",
       "      <th>Date</th>\n",
       "      <th>IsHoliday</th>\n",
       "    </tr>\n",
       "  </thead>\n",
       "  <tbody>\n",
       "    <tr>\n",
       "      <th>0</th>\n",
       "      <td>1</td>\n",
       "      <td>1</td>\n",
       "      <td>2012-11-02</td>\n",
       "      <td>False</td>\n",
       "    </tr>\n",
       "    <tr>\n",
       "      <th>1</th>\n",
       "      <td>1</td>\n",
       "      <td>1</td>\n",
       "      <td>2012-11-09</td>\n",
       "      <td>False</td>\n",
       "    </tr>\n",
       "    <tr>\n",
       "      <th>2</th>\n",
       "      <td>1</td>\n",
       "      <td>1</td>\n",
       "      <td>2012-11-16</td>\n",
       "      <td>False</td>\n",
       "    </tr>\n",
       "    <tr>\n",
       "      <th>3</th>\n",
       "      <td>1</td>\n",
       "      <td>1</td>\n",
       "      <td>2012-11-23</td>\n",
       "      <td>True</td>\n",
       "    </tr>\n",
       "    <tr>\n",
       "      <th>4</th>\n",
       "      <td>1</td>\n",
       "      <td>1</td>\n",
       "      <td>2012-11-30</td>\n",
       "      <td>False</td>\n",
       "    </tr>\n",
       "  </tbody>\n",
       "</table>\n",
       "</div>"
      ],
      "text/plain": [
       "   Store  Dept        Date  IsHoliday\n",
       "0      1     1  2012-11-02      False\n",
       "1      1     1  2012-11-09      False\n",
       "2      1     1  2012-11-16      False\n",
       "3      1     1  2012-11-23       True\n",
       "4      1     1  2012-11-30      False"
      ]
     },
     "execution_count": 19,
     "metadata": {},
     "output_type": "execute_result"
    }
   ],
   "source": [
    "Unknown_set = pd.read_csv('test.csv')\n",
    "Unknown_set.head()"
   ]
  },
  {
   "cell_type": "markdown",
   "id": "7fd91c8d",
   "metadata": {},
   "source": [
    "Extract Month, Year, and Day from Date and then drop it."
   ]
  },
  {
   "cell_type": "code",
   "execution_count": 20,
   "id": "04fde993",
   "metadata": {},
   "outputs": [],
   "source": [
    "Unknown_set['Month'] = pd.DatetimeIndex(Unknown_set['Date']).month\n",
    "Unknown_set['Year'] = pd.DatetimeIndex(Unknown_set['Date']).year\n",
    "Unknown_set['Day'] = pd.DatetimeIndex(Unknown_set['Date']).day\n",
    "Unknown_set = Unknown_set.drop(\"Date\", axis = 1)"
   ]
  },
  {
   "cell_type": "markdown",
   "id": "83b4364f",
   "metadata": {},
   "source": [
    "Drop Date from the train set as well. (The train set used is the one with markdown.)"
   ]
  },
  {
   "cell_type": "code",
   "execution_count": 21,
   "id": "06cfacc3",
   "metadata": {},
   "outputs": [],
   "source": [
    "data = data.drop('Date', axis=1)"
   ]
  },
  {
   "cell_type": "markdown",
   "id": "6c7e6bcd",
   "metadata": {},
   "source": [
    "Get rid of missing values in the MarkDown columns by converting them into zero."
   ]
  },
  {
   "cell_type": "code",
   "execution_count": 22,
   "id": "38f7585f",
   "metadata": {},
   "outputs": [],
   "source": [
    "data['MarkDown1'] = data['MarkDown1'].apply(lambda x: 0 if x == 'nan' else x)\n",
    "data['MarkDown2'] = data['MarkDown2'].apply(lambda x: 0 if x == 'nan' else x)\n",
    "data['MarkDown3'] = data['MarkDown3'].apply(lambda x: 0 if x == 'nan' else x)\n",
    "data['MarkDown4'] = data['MarkDown4'].apply(lambda x: 0 if x == 'nan' else x)\n",
    "data['MarkDown5'] = data['MarkDown5'].apply(lambda x: 0 if x == 'nan' else x)"
   ]
  },
  {
   "cell_type": "markdown",
   "id": "1fd099a9",
   "metadata": {},
   "source": [
    "Numerically encode Month, IsHoliday, and Year."
   ]
  },
  {
   "cell_type": "code",
   "execution_count": 23,
   "id": "7f4d4b3e",
   "metadata": {},
   "outputs": [],
   "source": [
    "Months = {'J': 1, 'F': 2, 'M': 3, 'A': 4, 'My': 5, 'Jn': 6, 'Jl': 7,\n",
    "         'Au': 8, 'S': 9, 'O': 10, 'N': 11, 'D': 12}\n",
    "\n",
    "data['Month'] = data['Month'].apply(lambda x: Months[x])"
   ]
  },
  {
   "cell_type": "markdown",
   "id": "63e9f706",
   "metadata": {},
   "source": [
    "Numerically encode IsHoliday and Year. For Year, instead of encoding, subtract the year by 2010 to get a range from 1-3. This is because the year given in the unknown dataset is different with that of the train set."
   ]
  },
  {
   "cell_type": "code",
   "execution_count": 24,
   "id": "ab3018cf",
   "metadata": {},
   "outputs": [
    {
     "name": "stdout",
     "output_type": "stream",
     "text": [
      "[False  True]\n"
     ]
    }
   ],
   "source": [
    "from sklearn.preprocessing import LabelEncoder\n",
    "le = LabelEncoder()\n",
    "\n",
    "data['IsHoliday'] = le.fit_transform(data['IsHoliday'])\n",
    "Unknown_set['IsHoliday'] = le.transform(Unknown_set['IsHoliday'])\n",
    "print(le.classes_)\n",
    "    \n",
    "data['Year'] = data['Year'].apply(lambda x: x-2010)\n",
    "Unknown_set['Year'] = Unknown_set['Year'].apply(lambda x: x-2010)"
   ]
  },
  {
   "cell_type": "markdown",
   "id": "358bb4ee",
   "metadata": {},
   "source": [
    "**Missing features in the test set:** Fuel_Price, Unemployment, CPI, Temperature"
   ]
  },
  {
   "cell_type": "code",
   "execution_count": 25,
   "id": "8159454e",
   "metadata": {},
   "outputs": [
    {
     "data": {
      "text/html": [
       "<div>\n",
       "<style scoped>\n",
       "    .dataframe tbody tr th:only-of-type {\n",
       "        vertical-align: middle;\n",
       "    }\n",
       "\n",
       "    .dataframe tbody tr th {\n",
       "        vertical-align: top;\n",
       "    }\n",
       "\n",
       "    .dataframe thead th {\n",
       "        text-align: right;\n",
       "    }\n",
       "</style>\n",
       "<table border=\"1\" class=\"dataframe\">\n",
       "  <thead>\n",
       "    <tr style=\"text-align: right;\">\n",
       "      <th></th>\n",
       "      <th>Store</th>\n",
       "      <th>Dept</th>\n",
       "      <th>IsHoliday</th>\n",
       "      <th>Month</th>\n",
       "      <th>Year</th>\n",
       "      <th>Day</th>\n",
       "    </tr>\n",
       "  </thead>\n",
       "  <tbody>\n",
       "    <tr>\n",
       "      <th>0</th>\n",
       "      <td>1</td>\n",
       "      <td>1</td>\n",
       "      <td>0</td>\n",
       "      <td>11</td>\n",
       "      <td>2</td>\n",
       "      <td>2</td>\n",
       "    </tr>\n",
       "    <tr>\n",
       "      <th>1</th>\n",
       "      <td>1</td>\n",
       "      <td>1</td>\n",
       "      <td>0</td>\n",
       "      <td>11</td>\n",
       "      <td>2</td>\n",
       "      <td>9</td>\n",
       "    </tr>\n",
       "    <tr>\n",
       "      <th>2</th>\n",
       "      <td>1</td>\n",
       "      <td>1</td>\n",
       "      <td>0</td>\n",
       "      <td>11</td>\n",
       "      <td>2</td>\n",
       "      <td>16</td>\n",
       "    </tr>\n",
       "    <tr>\n",
       "      <th>3</th>\n",
       "      <td>1</td>\n",
       "      <td>1</td>\n",
       "      <td>1</td>\n",
       "      <td>11</td>\n",
       "      <td>2</td>\n",
       "      <td>23</td>\n",
       "    </tr>\n",
       "    <tr>\n",
       "      <th>4</th>\n",
       "      <td>1</td>\n",
       "      <td>1</td>\n",
       "      <td>0</td>\n",
       "      <td>11</td>\n",
       "      <td>2</td>\n",
       "      <td>30</td>\n",
       "    </tr>\n",
       "  </tbody>\n",
       "</table>\n",
       "</div>"
      ],
      "text/plain": [
       "   Store  Dept  IsHoliday  Month  Year  Day\n",
       "0      1     1          0     11     2    2\n",
       "1      1     1          0     11     2    9\n",
       "2      1     1          0     11     2   16\n",
       "3      1     1          1     11     2   23\n",
       "4      1     1          0     11     2   30"
      ]
     },
     "execution_count": 25,
     "metadata": {},
     "output_type": "execute_result"
    }
   ],
   "source": [
    "Unknown_set.head()"
   ]
  },
  {
   "cell_type": "markdown",
   "id": "f0892257",
   "metadata": {},
   "source": [
    "Below shows that Store and CPI is 1:1, which means that each store has the same CPI per week. Therefore the important variables for CPI are Store, IsHoliday, Month, and Day (Week number)."
   ]
  },
  {
   "cell_type": "code",
   "execution_count": 26,
   "id": "b91fb11f",
   "metadata": {},
   "outputs": [
    {
     "data": {
      "text/plain": [
       "Store  CPI       \n",
       "1      219.714258    72\n",
       "2      219.355063    72\n",
       "3      223.192305    64\n",
       "4      130.157516    72\n",
       "5      220.296920    63\n",
       "6      221.308802    71\n",
       "7      196.545831    69\n",
       "8      223.240967    71\n",
       "9      223.433241    64\n",
       "10     130.157516    71\n",
       "11     223.192305    71\n",
       "12     130.157516    68\n",
       "13     130.157516    74\n",
       "14     189.194056    69\n",
       "15     136.698129    69\n",
       "16     196.545831    66\n",
       "17     130.157516    71\n",
       "18     136.698129    70\n",
       "19     136.698129    71\n",
       "20     212.571112    72\n",
       "21     219.355063    67\n",
       "22     140.646136    68\n",
       "23     136.698129    71\n",
       "24     136.698129    72\n",
       "25     212.571112    68\n",
       "26     136.698129    69\n",
       "27     140.646136    71\n",
       "28     130.157516    69\n",
       "29     136.698129    68\n",
       "30     219.355063    50\n",
       "31     219.355063    70\n",
       "32     196.545831    69\n",
       "33     130.157516    45\n",
       "34     130.157516    70\n",
       "35     140.646136    67\n",
       "36     218.406288    47\n",
       "37     218.406288    53\n",
       "38     130.157516    53\n",
       "39     218.406288    69\n",
       "40     136.698129    70\n",
       "41     196.545831    70\n",
       "42     130.157516    51\n",
       "43     211.242813    48\n",
       "44     130.157516    50\n",
       "45     189.194056    68\n",
       "dtype: int64"
      ]
     },
     "execution_count": 26,
     "metadata": {},
     "output_type": "execute_result"
    }
   ],
   "source": [
    "data.query('Month == 1 & Day == 6')[['Store','CPI']].value_counts().sort_index()"
   ]
  },
  {
   "cell_type": "markdown",
   "id": "516bc62b",
   "metadata": {},
   "source": [
    "We can carry over this to the test set, however, below shows that the \"Day\" feature would be different. With that, we need to replace the Day variable with Week 1-4."
   ]
  },
  {
   "cell_type": "code",
   "execution_count": 27,
   "id": "818de0f0",
   "metadata": {},
   "outputs": [
    {
     "name": "stdout",
     "output_type": "stream",
     "text": [
      "[27, 6, 13, 20]\n",
      "[4, 11, 18, 25]\n"
     ]
    }
   ],
   "source": [
    "print(data.query('Month == 1')['Day'].unique().tolist())\n",
    "print(Unknown_set.query('Month == 1')['Day'].unique().tolist())"
   ]
  },
  {
   "cell_type": "markdown",
   "id": "92bf51d8",
   "metadata": {},
   "source": [
    "*This function replaces Day to 0-4 depending on what week number it is in its month. Final_df is now the new DataFrame.*"
   ]
  },
  {
   "cell_type": "code",
   "execution_count": 28,
   "id": "8a50fc4a",
   "metadata": {},
   "outputs": [],
   "source": [
    "def Week_num(arr, df):\n",
    "    final_df = pd.DataFrame()\n",
    "    i = 0\n",
    "    while i < len(arr):\n",
    "        query_df = df.query(arr[i])\n",
    "        reference_list = query_df['Day'].unique().tolist()\n",
    "        reference_list.sort()\n",
    "        query_df['Week'] = query_df['Day'].apply(lambda x: reference_list.index(x))\n",
    "        final_df = pd.concat([query_df, final_df], ignore_index=True)\n",
    "        i += 1\n",
    "    return final_df\n",
    "        \n",
    "    \n",
    "expr_array = ['Month==1', 'Month==2', 'Month==3', 'Month==4', 'Month==5', 'Month==6', 'Month==7', 'Month==8', \n",
    "             'Month==9', 'Month==10', 'Month==11', 'Month==12']\n",
    "\n",
    "Train_set = Week_num(expr_array, data)\n",
    "Unknown_set = Week_num(expr_array, Unknown_set)"
   ]
  },
  {
   "cell_type": "markdown",
   "id": "69e5778c",
   "metadata": {},
   "source": [
    "Below shows that the feature 'Day' now only contains numbers 0-4 which signifies its week number."
   ]
  },
  {
   "cell_type": "code",
   "execution_count": 29,
   "id": "cd016ae9",
   "metadata": {},
   "outputs": [
    {
     "data": {
      "text/plain": [
       "0    35547\n",
       "1    35561\n",
       "2    35558\n",
       "3    32467\n",
       "4    11815\n",
       "Name: Week, dtype: int64"
      ]
     },
     "execution_count": 29,
     "metadata": {},
     "output_type": "execute_result"
    }
   ],
   "source": [
    "Train_set['Week'].value_counts().sort_index()"
   ]
  },
  {
   "cell_type": "code",
   "execution_count": 30,
   "id": "d8565a1f",
   "metadata": {},
   "outputs": [
    {
     "data": {
      "text/html": [
       "<div>\n",
       "<style scoped>\n",
       "    .dataframe tbody tr th:only-of-type {\n",
       "        vertical-align: middle;\n",
       "    }\n",
       "\n",
       "    .dataframe tbody tr th {\n",
       "        vertical-align: top;\n",
       "    }\n",
       "\n",
       "    .dataframe thead th {\n",
       "        text-align: right;\n",
       "    }\n",
       "</style>\n",
       "<table border=\"1\" class=\"dataframe\">\n",
       "  <thead>\n",
       "    <tr style=\"text-align: right;\">\n",
       "      <th></th>\n",
       "      <th>Store</th>\n",
       "      <th>Weekly_Sales</th>\n",
       "      <th>IsHoliday</th>\n",
       "      <th>Dept</th>\n",
       "      <th>CPI</th>\n",
       "      <th>Temperature</th>\n",
       "      <th>Fuel_Price</th>\n",
       "      <th>MarkDown1</th>\n",
       "      <th>MarkDown2</th>\n",
       "      <th>MarkDown3</th>\n",
       "      <th>MarkDown4</th>\n",
       "      <th>MarkDown5</th>\n",
       "      <th>Unemployment</th>\n",
       "      <th>Month</th>\n",
       "      <th>Day</th>\n",
       "      <th>Year</th>\n",
       "      <th>Week</th>\n",
       "    </tr>\n",
       "  </thead>\n",
       "  <tbody>\n",
       "    <tr>\n",
       "      <th>0</th>\n",
       "      <td>1</td>\n",
       "      <td>25293.49</td>\n",
       "      <td>0</td>\n",
       "      <td>1</td>\n",
       "      <td>218.714733</td>\n",
       "      <td>48.91</td>\n",
       "      <td>3.172</td>\n",
       "      <td>5629.51</td>\n",
       "      <td>68.0</td>\n",
       "      <td>1398.11</td>\n",
       "      <td>2084.64</td>\n",
       "      <td>20475.32</td>\n",
       "      <td>7.866</td>\n",
       "      <td>12</td>\n",
       "      <td>2</td>\n",
       "      <td>1</td>\n",
       "      <td>0</td>\n",
       "    </tr>\n",
       "    <tr>\n",
       "      <th>1</th>\n",
       "      <td>1</td>\n",
       "      <td>45928.14</td>\n",
       "      <td>0</td>\n",
       "      <td>2</td>\n",
       "      <td>218.714733</td>\n",
       "      <td>48.91</td>\n",
       "      <td>3.172</td>\n",
       "      <td>5629.51</td>\n",
       "      <td>68.0</td>\n",
       "      <td>1398.11</td>\n",
       "      <td>2084.64</td>\n",
       "      <td>20475.32</td>\n",
       "      <td>7.866</td>\n",
       "      <td>12</td>\n",
       "      <td>2</td>\n",
       "      <td>1</td>\n",
       "      <td>0</td>\n",
       "    </tr>\n",
       "    <tr>\n",
       "      <th>2</th>\n",
       "      <td>1</td>\n",
       "      <td>10146.54</td>\n",
       "      <td>0</td>\n",
       "      <td>3</td>\n",
       "      <td>218.714733</td>\n",
       "      <td>48.91</td>\n",
       "      <td>3.172</td>\n",
       "      <td>5629.51</td>\n",
       "      <td>68.0</td>\n",
       "      <td>1398.11</td>\n",
       "      <td>2084.64</td>\n",
       "      <td>20475.32</td>\n",
       "      <td>7.866</td>\n",
       "      <td>12</td>\n",
       "      <td>2</td>\n",
       "      <td>1</td>\n",
       "      <td>0</td>\n",
       "    </tr>\n",
       "    <tr>\n",
       "      <th>3</th>\n",
       "      <td>1</td>\n",
       "      <td>38489.63</td>\n",
       "      <td>0</td>\n",
       "      <td>4</td>\n",
       "      <td>218.714733</td>\n",
       "      <td>48.91</td>\n",
       "      <td>3.172</td>\n",
       "      <td>5629.51</td>\n",
       "      <td>68.0</td>\n",
       "      <td>1398.11</td>\n",
       "      <td>2084.64</td>\n",
       "      <td>20475.32</td>\n",
       "      <td>7.866</td>\n",
       "      <td>12</td>\n",
       "      <td>2</td>\n",
       "      <td>1</td>\n",
       "      <td>0</td>\n",
       "    </tr>\n",
       "    <tr>\n",
       "      <th>4</th>\n",
       "      <td>1</td>\n",
       "      <td>32572.27</td>\n",
       "      <td>0</td>\n",
       "      <td>5</td>\n",
       "      <td>218.714733</td>\n",
       "      <td>48.91</td>\n",
       "      <td>3.172</td>\n",
       "      <td>5629.51</td>\n",
       "      <td>68.0</td>\n",
       "      <td>1398.11</td>\n",
       "      <td>2084.64</td>\n",
       "      <td>20475.32</td>\n",
       "      <td>7.866</td>\n",
       "      <td>12</td>\n",
       "      <td>2</td>\n",
       "      <td>1</td>\n",
       "      <td>0</td>\n",
       "    </tr>\n",
       "  </tbody>\n",
       "</table>\n",
       "</div>"
      ],
      "text/plain": [
       "   Store  Weekly_Sales  IsHoliday  Dept         CPI  Temperature  Fuel_Price  \\\n",
       "0      1      25293.49          0     1  218.714733        48.91       3.172   \n",
       "1      1      45928.14          0     2  218.714733        48.91       3.172   \n",
       "2      1      10146.54          0     3  218.714733        48.91       3.172   \n",
       "3      1      38489.63          0     4  218.714733        48.91       3.172   \n",
       "4      1      32572.27          0     5  218.714733        48.91       3.172   \n",
       "\n",
       "  MarkDown1 MarkDown2 MarkDown3 MarkDown4 MarkDown5  Unemployment  Month  Day  \\\n",
       "0   5629.51      68.0   1398.11   2084.64  20475.32         7.866     12    2   \n",
       "1   5629.51      68.0   1398.11   2084.64  20475.32         7.866     12    2   \n",
       "2   5629.51      68.0   1398.11   2084.64  20475.32         7.866     12    2   \n",
       "3   5629.51      68.0   1398.11   2084.64  20475.32         7.866     12    2   \n",
       "4   5629.51      68.0   1398.11   2084.64  20475.32         7.866     12    2   \n",
       "\n",
       "   Year  Week  \n",
       "0     1     0  \n",
       "1     1     0  \n",
       "2     1     0  \n",
       "3     1     0  \n",
       "4     1     0  "
      ]
     },
     "execution_count": 30,
     "metadata": {},
     "output_type": "execute_result"
    }
   ],
   "source": [
    "Train_set.head()"
   ]
  },
  {
   "cell_type": "code",
   "execution_count": 31,
   "id": "ae75d325",
   "metadata": {},
   "outputs": [
    {
     "data": {
      "text/html": [
       "<div>\n",
       "<style scoped>\n",
       "    .dataframe tbody tr th:only-of-type {\n",
       "        vertical-align: middle;\n",
       "    }\n",
       "\n",
       "    .dataframe tbody tr th {\n",
       "        vertical-align: top;\n",
       "    }\n",
       "\n",
       "    .dataframe thead th {\n",
       "        text-align: right;\n",
       "    }\n",
       "</style>\n",
       "<table border=\"1\" class=\"dataframe\">\n",
       "  <thead>\n",
       "    <tr style=\"text-align: right;\">\n",
       "      <th></th>\n",
       "      <th>Store</th>\n",
       "      <th>Dept</th>\n",
       "      <th>IsHoliday</th>\n",
       "      <th>Month</th>\n",
       "      <th>Year</th>\n",
       "      <th>Day</th>\n",
       "      <th>Week</th>\n",
       "    </tr>\n",
       "  </thead>\n",
       "  <tbody>\n",
       "    <tr>\n",
       "      <th>0</th>\n",
       "      <td>1</td>\n",
       "      <td>1</td>\n",
       "      <td>0</td>\n",
       "      <td>12</td>\n",
       "      <td>2</td>\n",
       "      <td>7</td>\n",
       "      <td>0</td>\n",
       "    </tr>\n",
       "    <tr>\n",
       "      <th>1</th>\n",
       "      <td>1</td>\n",
       "      <td>1</td>\n",
       "      <td>0</td>\n",
       "      <td>12</td>\n",
       "      <td>2</td>\n",
       "      <td>14</td>\n",
       "      <td>1</td>\n",
       "    </tr>\n",
       "    <tr>\n",
       "      <th>2</th>\n",
       "      <td>1</td>\n",
       "      <td>1</td>\n",
       "      <td>0</td>\n",
       "      <td>12</td>\n",
       "      <td>2</td>\n",
       "      <td>21</td>\n",
       "      <td>2</td>\n",
       "    </tr>\n",
       "    <tr>\n",
       "      <th>3</th>\n",
       "      <td>1</td>\n",
       "      <td>1</td>\n",
       "      <td>1</td>\n",
       "      <td>12</td>\n",
       "      <td>2</td>\n",
       "      <td>28</td>\n",
       "      <td>3</td>\n",
       "    </tr>\n",
       "    <tr>\n",
       "      <th>4</th>\n",
       "      <td>1</td>\n",
       "      <td>2</td>\n",
       "      <td>0</td>\n",
       "      <td>12</td>\n",
       "      <td>2</td>\n",
       "      <td>7</td>\n",
       "      <td>0</td>\n",
       "    </tr>\n",
       "  </tbody>\n",
       "</table>\n",
       "</div>"
      ],
      "text/plain": [
       "   Store  Dept  IsHoliday  Month  Year  Day  Week\n",
       "0      1     1          0     12     2    7     0\n",
       "1      1     1          0     12     2   14     1\n",
       "2      1     1          0     12     2   21     2\n",
       "3      1     1          1     12     2   28     3\n",
       "4      1     2          0     12     2    7     0"
      ]
     },
     "execution_count": 31,
     "metadata": {},
     "output_type": "execute_result"
    }
   ],
   "source": [
    "Unknown_set.head()"
   ]
  },
  {
   "cell_type": "code",
   "execution_count": 32,
   "id": "95d4a315",
   "metadata": {},
   "outputs": [],
   "source": [
    "Train_set.to_csv('train_set.csv')\n",
    "Unknown_set.to_csv('Unknown_set.csv')"
   ]
  }
 ],
 "metadata": {
  "colab": {
   "provenance": []
  },
  "kernelspec": {
   "display_name": "Python 3 (ipykernel)",
   "language": "python",
   "name": "python3"
  },
  "language_info": {
   "codemirror_mode": {
    "name": "ipython",
    "version": 3
   },
   "file_extension": ".py",
   "mimetype": "text/x-python",
   "name": "python",
   "nbconvert_exporter": "python",
   "pygments_lexer": "ipython3",
   "version": "3.9.12"
  }
 },
 "nbformat": 4,
 "nbformat_minor": 5
}
